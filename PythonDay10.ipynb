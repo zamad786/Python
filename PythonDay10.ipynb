{
  "nbformat": 4,
  "nbformat_minor": 0,
  "metadata": {
    "colab": {
      "provenance": [],
      "authorship_tag": "ABX9TyPmTZfsJSfCoegODjEa6tvC",
      "include_colab_link": true
    },
    "kernelspec": {
      "name": "python3",
      "display_name": "Python 3"
    },
    "language_info": {
      "name": "python"
    }
  },
  "cells": [
    {
      "cell_type": "markdown",
      "metadata": {
        "id": "view-in-github",
        "colab_type": "text"
      },
      "source": [
        "<a href=\"https://colab.research.google.com/github/zamad786/Python/blob/main/PythonDay10.ipynb\" target=\"_parent\"><img src=\"https://colab.research.google.com/assets/colab-badge.svg\" alt=\"Open In Colab\"/></a>"
      ]
    },
    {
      "cell_type": "code",
      "execution_count": 3,
      "metadata": {
        "colab": {
          "base_uri": "https://localhost:8080/",
          "height": 35
        },
        "id": "xSKojiv-t-d-",
        "outputId": "74247672-c6fe-498e-993f-babea063f752"
      },
      "outputs": [
        {
          "output_type": "execute_result",
          "data": {
            "text/plain": [
              "'zama'"
            ],
            "application/vnd.google.colaboratory.intrinsic+json": {
              "type": "string"
            }
          },
          "metadata": {},
          "execution_count": 3
        }
      ],
      "source": [
        "#slicing , syntax\n",
        "#[start:stop:step]\n",
        "a = \"zamad\"\n",
        "a[0:4:1]"
      ]
    },
    {
      "cell_type": "code",
      "source": [
        "b = \"Muhammad Zamad Qureshi\"\n",
        "b [4:1]"
      ],
      "metadata": {
        "colab": {
          "base_uri": "https://localhost:8080/",
          "height": 35
        },
        "id": "GTVkXMKAyA1X",
        "outputId": "8294fa3a-3dde-4335-cc13-18a1ec3f48c0"
      },
      "execution_count": 4,
      "outputs": [
        {
          "output_type": "execute_result",
          "data": {
            "text/plain": [
              "''"
            ],
            "application/vnd.google.colaboratory.intrinsic+json": {
              "type": "string"
            }
          },
          "metadata": {},
          "execution_count": 4
        }
      ]
    },
    {
      "cell_type": "code",
      "source": [
        "c = \"zamad\"\n",
        "c[:]"
      ],
      "metadata": {
        "colab": {
          "base_uri": "https://localhost:8080/",
          "height": 35
        },
        "id": "bQT2fOf7yQ56",
        "outputId": "57c390b0-8fc2-458f-cb24-504672e5659a"
      },
      "execution_count": 5,
      "outputs": [
        {
          "output_type": "execute_result",
          "data": {
            "text/plain": [
              "'zamad'"
            ],
            "application/vnd.google.colaboratory.intrinsic+json": {
              "type": "string"
            }
          },
          "metadata": {},
          "execution_count": 5
        }
      ]
    },
    {
      "cell_type": "code",
      "source": [
        "d = \"zAmad\"\n",
        "d[:3]"
      ],
      "metadata": {
        "colab": {
          "base_uri": "https://localhost:8080/",
          "height": 35
        },
        "id": "WulfvoPUynFN",
        "outputId": "4894ace1-2536-46bf-ac50-be5bd0cb72b4"
      },
      "execution_count": 9,
      "outputs": [
        {
          "output_type": "execute_result",
          "data": {
            "text/plain": [
              "'damAz'"
            ],
            "application/vnd.google.colaboratory.intrinsic+json": {
              "type": "string"
            }
          },
          "metadata": {},
          "execution_count": 9
        }
      ]
    },
    {
      "cell_type": "code",
      "source": [
        "e = \"zamad\"\n",
        "d[::-1]"
      ],
      "metadata": {
        "colab": {
          "base_uri": "https://localhost:8080/",
          "height": 35
        },
        "id": "A0dXLRXz0OLh",
        "outputId": "8b618901-ec70-4722-aba3-e935f9d5d72c"
      },
      "execution_count": 10,
      "outputs": [
        {
          "output_type": "execute_result",
          "data": {
            "text/plain": [
              "'damAz'"
            ],
            "application/vnd.google.colaboratory.intrinsic+json": {
              "type": "string"
            }
          },
          "metadata": {},
          "execution_count": 10
        }
      ]
    },
    {
      "cell_type": "code",
      "source": [
        "f = \"zAmad\"\n",
        "f[-4]"
      ],
      "metadata": {
        "colab": {
          "base_uri": "https://localhost:8080/",
          "height": 35
        },
        "id": "gxgLgyPI0S2U",
        "outputId": "86dd2be9-371a-4cf6-c8f1-79393946e652"
      },
      "execution_count": 12,
      "outputs": [
        {
          "output_type": "execute_result",
          "data": {
            "text/plain": [
              "'A'"
            ],
            "application/vnd.google.colaboratory.intrinsic+json": {
              "type": "string"
            }
          },
          "metadata": {},
          "execution_count": 12
        }
      ]
    },
    {
      "cell_type": "code",
      "source": [
        "#Built in methods\n",
        "len()\n",
        "min()\n",
        "max()\n",
        "sorted()\n",
        "sum()"
      ],
      "metadata": {
        "id": "l4JBbU210c3w"
      },
      "execution_count": null,
      "outputs": []
    },
    {
      "cell_type": "code",
      "source": [
        "a = \"zAmad\"\n",
        "b = [1, 2, 3, 4]\n",
        "len(a)\n",
        "min(a)\n",
        "max(a)\n",
        "sorted(a)\n",
        "total = sum(b)\n",
        "print(total)"
      ],
      "metadata": {
        "colab": {
          "base_uri": "https://localhost:8080/"
        },
        "id": "14SWYBdI02aF",
        "outputId": "0c690c60-9d98-48fa-942e-5ccfedffb7e9"
      },
      "execution_count": 28,
      "outputs": [
        {
          "output_type": "stream",
          "name": "stdout",
          "text": [
            "10\n"
          ]
        }
      ]
    },
    {
      "cell_type": "code",
      "source": [
        "#lets concatinate\n",
        "a = \"ABC\"\n",
        "b = \"DEF\"\n",
        "a+b"
      ],
      "metadata": {
        "colab": {
          "base_uri": "https://localhost:8080/",
          "height": 35
        },
        "id": "CfSaZpAh2uKJ",
        "outputId": "01a531d1-35d5-4e3f-b290-bb08a3bb0d07"
      },
      "execution_count": 29,
      "outputs": [
        {
          "output_type": "execute_result",
          "data": {
            "text/plain": [
              "'ABCDEF'"
            ],
            "application/vnd.google.colaboratory.intrinsic+json": {
              "type": "string"
            }
          },
          "metadata": {},
          "execution_count": 29
        }
      ]
    },
    {
      "cell_type": "code",
      "source": [
        "#lets do repetition\n",
        "a = \"BEFG\"\n",
        "a*3\n",
        "#now you c you got a value 3 times bcz we multiply 3 times"
      ],
      "metadata": {
        "colab": {
          "base_uri": "https://localhost:8080/",
          "height": 35
        },
        "id": "vtpXROj_26Hj",
        "outputId": "097da75b-9e3f-4677-ef05-164411df102e"
      },
      "execution_count": 30,
      "outputs": [
        {
          "output_type": "execute_result",
          "data": {
            "text/plain": [
              "'BEFGBEFGBEFG'"
            ],
            "application/vnd.google.colaboratory.intrinsic+json": {
              "type": "string"
            }
          },
          "metadata": {},
          "execution_count": 30
        }
      ]
    },
    {
      "cell_type": "code",
      "source": [
        "#lets use format\n",
        "print(\"My name is {}\". format(\"Zamad\"))"
      ],
      "metadata": {
        "colab": {
          "base_uri": "https://localhost:8080/"
        },
        "id": "jrmgp73Y3QsS",
        "outputId": "4db712b5-ef11-440f-c661-0b6f14911685"
      },
      "execution_count": 34,
      "outputs": [
        {
          "output_type": "stream",
          "name": "stdout",
          "text": [
            "My name is Zamad\n"
          ]
        }
      ]
    },
    {
      "cell_type": "code",
      "source": [
        "a = \"Muhammad Zamad Qureshi\"\n",
        "print(\"Hi my name is {}\". format(a))"
      ],
      "metadata": {
        "colab": {
          "base_uri": "https://localhost:8080/"
        },
        "id": "x_lb8Xmj62OM",
        "outputId": "08550617-c57f-41bd-c02b-645d8d24ffa1"
      },
      "execution_count": 36,
      "outputs": [
        {
          "output_type": "stream",
          "name": "stdout",
          "text": [
            "Hi my name is Muhammad Zamad Qureshi\n"
          ]
        }
      ]
    },
    {
      "cell_type": "code",
      "source": [
        "a = \"first {}, second {}, third {}, fourth {}\"\n",
        "b = \"Hi\"\n",
        "c = 123\n",
        "d = 1.5\n",
        "e = \"bye\"\n",
        "print(a. format(b,c,d,e))"
      ],
      "metadata": {
        "colab": {
          "base_uri": "https://localhost:8080/"
        },
        "id": "j6LOly-r61jX",
        "outputId": "ae2aa15a-3b78-43de-9d57-167388254418"
      },
      "execution_count": 38,
      "outputs": [
        {
          "output_type": "stream",
          "name": "stdout",
          "text": [
            "first Hi, second 123, third 1.5, fourth bye\n"
          ]
        }
      ]
    },
    {
      "cell_type": "code",
      "source": [
        "#str objects methods\n",
        "index()\n",
        "count()\n",
        "startswitch()\n",
        "endswitch()\n",
        "slpit()\n",
        "join()\n",
        "format()\n",
        "isdigit()\n",
        "islower()\n",
        "isuper()\n",
        "lower()\n",
        "replace()"
      ],
      "metadata": {
        "id": "-uA8pNvK8aZz"
      },
      "execution_count": null,
      "outputs": []
    },
    {
      "cell_type": "code",
      "source": [
        "a = \"Muhammad Zamad Qureshi\"\n",
        "a.index(\"Z\")\n",
        "a.count(\"a\")\n",
        "a.startswith(\"Z\")\n",
        "a.startswith(\"M\")\n",
        "a.endswith(\"i\")\n",
        "a.split(\"e\")"
      ],
      "metadata": {
        "colab": {
          "base_uri": "https://localhost:8080/"
        },
        "id": "hx6F9rsE9NaF",
        "outputId": "518442ba-3a08-489a-bb05-23e423107fda"
      },
      "execution_count": 56,
      "outputs": [
        {
          "output_type": "execute_result",
          "data": {
            "text/plain": [
              "['Muhammad Zamad Qur', 'shi']"
            ]
          },
          "metadata": {},
          "execution_count": 56
        }
      ]
    },
    {
      "cell_type": "code",
      "source": [
        "z = input(\"Enter the value: \")\n",
        "b = z.split(\",\")\n",
        "value = [int(i) for i in b]\n",
        "print(value)"
      ],
      "metadata": {
        "colab": {
          "base_uri": "https://localhost:8080/"
        },
        "id": "0Ku9UMIG_fLO",
        "outputId": "c5a49036-1834-4d84-e3ed-80c909ad995b"
      },
      "execution_count": 63,
      "outputs": [
        {
          "output_type": "stream",
          "name": "stdout",
          "text": [
            "Enter the value: 1,2,3,4,5,6\n",
            "[1, 2, 3, 4, 5, 6]\n"
          ]
        }
      ]
    },
    {
      "cell_type": "code",
      "source": [
        "a = [\"12\", \"23\", \"34\"]\n",
        "b = \"+\".join(a)\n",
        "print(b)"
      ],
      "metadata": {
        "colab": {
          "base_uri": "https://localhost:8080/"
        },
        "id": "5eL5ImacA-km",
        "outputId": "4db274f9-32cc-4505-953e-0e6a7d7b425f"
      },
      "execution_count": 66,
      "outputs": [
        {
          "output_type": "stream",
          "name": "stdout",
          "text": [
            "12+23+34\n"
          ]
        }
      ]
    }
  ]
}