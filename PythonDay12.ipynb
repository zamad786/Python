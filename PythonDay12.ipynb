{
  "nbformat": 4,
  "nbformat_minor": 0,
  "metadata": {
    "colab": {
      "provenance": [],
      "authorship_tag": "ABX9TyPQ5sL4WgYxPPK0Ru7rBVWN",
      "include_colab_link": true
    },
    "kernelspec": {
      "name": "python3",
      "display_name": "Python 3"
    },
    "language_info": {
      "name": "python"
    }
  },
  "cells": [
    {
      "cell_type": "markdown",
      "metadata": {
        "id": "view-in-github",
        "colab_type": "text"
      },
      "source": [
        "<a href=\"https://colab.research.google.com/github/zamad786/Python/blob/main/PythonDay12.ipynb\" target=\"_parent\"><img src=\"https://colab.research.google.com/assets/colab-badge.svg\" alt=\"Open In Colab\"/></a>"
      ]
    },
    {
      "cell_type": "code",
      "source": [
        "#slicing operator [start:stop:step]\n",
        "a = [12, 23, 34, 45, 56, 67, 78, 89, 90]\n",
        "b = a[::-1]\n",
        "print(b)"
      ],
      "metadata": {
        "colab": {
          "base_uri": "https://localhost:8080/"
        },
        "id": "FFh93yuNLsy0",
        "outputId": "ede9db25-14de-4bdc-ac75-6641f53e5963"
      },
      "execution_count": 14,
      "outputs": [
        {
          "output_type": "stream",
          "name": "stdout",
          "text": [
            "[90, 89, 78, 67, 56, 45, 34, 23, 12]\n"
          ]
        }
      ]
    },
    {
      "cell_type": "code",
      "execution_count": 32,
      "metadata": {
        "colab": {
          "base_uri": "https://localhost:8080/"
        },
        "id": "um0DmtkhCCKp",
        "outputId": "43744b11-4f83-4fb4-8c6f-0fd844a8771f"
      },
      "outputs": [
        {
          "output_type": "stream",
          "name": "stdout",
          "text": [
            "2\n",
            "[6, 7, 8, 9, 0]\n"
          ]
        }
      ],
      "source": [
        "#list of list\n",
        "a = [ [1, 2, 3, 4, 5], [5, 4, 10, 2, 1], [6, 7, 8, 9, 0] ]\n",
        "print(a[1][3])\n",
        "print(a[2])"
      ]
    },
    {
      "cell_type": "code",
      "source": [
        "#Lets use del() and remove()\n",
        "b = [12, 23, 34, 45, 56, 67, 78, 89, 90]\n",
        "del b[2] # here we use index number ok\n",
        "print(b)\n",
        "c = [23, 34, 45, 56, 67, 78, 89]\n",
        "c.remove(67) #here we put the value\n",
        "print(c)"
      ],
      "metadata": {
        "colab": {
          "base_uri": "https://localhost:8080/"
        },
        "id": "UO2ONPoxPsRY",
        "outputId": "6287ad48-95ff-4485-9a32-059d0eaf777e"
      },
      "execution_count": 45,
      "outputs": [
        {
          "output_type": "stream",
          "name": "stdout",
          "text": [
            "[12, 23, 45, 56, 67, 78, 89, 90]\n",
            "[23, 34, 45, 56, 78, 89]\n"
          ]
        }
      ]
    },
    {
      "cell_type": "code",
      "source": [
        "#lets use pop()\n",
        "f = [12, 23, 34, 45, 56, 67, 78, 89, 90]\n",
        "print(f.pop(3))\n",
        "print(f)"
      ],
      "metadata": {
        "colab": {
          "base_uri": "https://localhost:8080/"
        },
        "id": "As1sUEOSQwVu",
        "outputId": "92a83ec5-cd48-4e1f-b979-c13fac2b4c21"
      },
      "execution_count": 62,
      "outputs": [
        {
          "output_type": "stream",
          "name": "stdout",
          "text": [
            "45\n",
            "[12, 23, 34, 56, 67, 78, 89, 90]\n"
          ]
        }
      ]
    },
    {
      "cell_type": "code",
      "source": [
        "#lets use clear()\n",
        "f = [12, 23, 34, 45, 56, 67, 78, 89, 90]\n",
        "f.clear()\n",
        "f"
      ],
      "metadata": {
        "colab": {
          "base_uri": "https://localhost:8080/"
        },
        "id": "1huP3ovrXrZR",
        "outputId": "170c8817-36ac-4927-b698-066752ab387d"
      },
      "execution_count": 64,
      "outputs": [
        {
          "output_type": "execute_result",
          "data": {
            "text/plain": [
              "[]"
            ]
          },
          "metadata": {},
          "execution_count": 64
        }
      ]
    },
    {
      "cell_type": "code",
      "source": [
        "#Lets use reverse()\n",
        "f = [12, 23, 34, 45, 56, 67, 78, 89, 90]\n",
        "f.reverse()\n",
        "f"
      ],
      "metadata": {
        "colab": {
          "base_uri": "https://localhost:8080/"
        },
        "id": "ICWvtWppX5SE",
        "outputId": "7c72de33-420d-421a-b677-bf03bb5bda72"
      },
      "execution_count": 65,
      "outputs": [
        {
          "output_type": "execute_result",
          "data": {
            "text/plain": [
              "[90, 89, 78, 67, 56, 45, 34, 23, 12]"
            ]
          },
          "metadata": {},
          "execution_count": 65
        }
      ]
    },
    {
      "cell_type": "code",
      "source": [
        "#Lets use sorted()\n",
        "g = [90, 89, 78, 67, 56, 45, 34, 23, 12]\n",
        "print(sorted(g))"
      ],
      "metadata": {
        "colab": {
          "base_uri": "https://localhost:8080/"
        },
        "id": "hu_uX7wcYI8o",
        "outputId": "1b17307a-3a0b-4e93-9d5b-7db0ff368ce6"
      },
      "execution_count": 83,
      "outputs": [
        {
          "output_type": "stream",
          "name": "stdout",
          "text": [
            "[12, 23, 34, 45, 56, 67, 78, 89, 90]\n",
            "None\n"
          ]
        }
      ]
    },
    {
      "cell_type": "code",
      "source": [
        "#Lets use sort()\n",
        "g = [90, 89, 78, 67, 56, 45, 34, 23, 12]\n",
        "g.sort()\n",
        "print(g)"
      ],
      "metadata": {
        "colab": {
          "base_uri": "https://localhost:8080/"
        },
        "id": "-xPksTZOchPE",
        "outputId": "1f42e136-5895-4c23-a57e-3f215f4466e3"
      },
      "execution_count": 85,
      "outputs": [
        {
          "output_type": "stream",
          "name": "stdout",
          "text": [
            "[12, 23, 34, 45, 56, 67, 78, 89, 90]\n"
          ]
        }
      ]
    },
    {
      "cell_type": "code",
      "source": [
        "#Lets use index()\n",
        "g = [90, 89, 78, 67, 56, 45, 34, 23, 12]\n",
        "g.index(45)"
      ],
      "metadata": {
        "colab": {
          "base_uri": "https://localhost:8080/"
        },
        "id": "AlvP27umc7dD",
        "outputId": "204f9a6b-d264-4714-a486-cecb519dee81"
      },
      "execution_count": 86,
      "outputs": [
        {
          "output_type": "execute_result",
          "data": {
            "text/plain": [
              "5"
            ]
          },
          "metadata": {},
          "execution_count": 86
        }
      ]
    },
    {
      "cell_type": "code",
      "source": [
        "#Lets use count()\n",
        "g = [90, 89, 78, 23, 56, 45, 23, 23, 12]\n",
        "g.count(23)"
      ],
      "metadata": {
        "colab": {
          "base_uri": "https://localhost:8080/"
        },
        "id": "gHnPj-fxdENh",
        "outputId": "dcf9f200-cf0a-439b-9772-872043a5875b"
      },
      "execution_count": 87,
      "outputs": [
        {
          "output_type": "execute_result",
          "data": {
            "text/plain": [
              "3"
            ]
          },
          "metadata": {},
          "execution_count": 87
        }
      ]
    },
    {
      "cell_type": "code",
      "source": [
        "#list comprehension\n",
        "[x**2 +2 for x in range(2,10)]"
      ],
      "metadata": {
        "colab": {
          "base_uri": "https://localhost:8080/"
        },
        "id": "_wK95yyGdTWh",
        "outputId": "46d5029d-073d-4381-e388-611e77ff4b6e"
      },
      "execution_count": 89,
      "outputs": [
        {
          "output_type": "execute_result",
          "data": {
            "text/plain": [
              "[6, 11, 18, 27, 38, 51, 66, 83]"
            ]
          },
          "metadata": {},
          "execution_count": 89
        }
      ]
    },
    {
      "cell_type": "code",
      "source": [
        "#lets use input\n",
        "a = list(input(\"Enter your name: \"))\n",
        "print(a)"
      ],
      "metadata": {
        "colab": {
          "base_uri": "https://localhost:8080/"
        },
        "id": "G4kPYC9_eBiM",
        "outputId": "2afcffe9-0f1b-4139-b86e-1f2704b2b8a1"
      },
      "execution_count": 95,
      "outputs": [
        {
          "output_type": "stream",
          "name": "stdout",
          "text": [
            "Enter your name: Zamad\n",
            "['Z', 'a', 'm', 'a', 'd']\n"
          ]
        }
      ]
    },
    {
      "cell_type": "code",
      "source": [
        "print(\"Enter how many values you wanna use ok\")\n",
        "a = int(input())\n",
        "c = []\n",
        "b = 0\n",
        "while b < a:\n",
        "  c.append(int(input(\"Enter the number \")))\n",
        "  b+=1\n",
        "print(\"Einal list \", c)"
      ],
      "metadata": {
        "colab": {
          "base_uri": "https://localhost:8080/"
        },
        "id": "FTVzpuqwfYyr",
        "outputId": "b8d5b8ef-37d2-47ad-8036-146d1f6a3691"
      },
      "execution_count": 101,
      "outputs": [
        {
          "output_type": "stream",
          "name": "stdout",
          "text": [
            "Enter how many values you wanna use ok\n",
            "4\n",
            "Enter the number 1\n",
            "Enter the number 2\n",
            "Enter the number 3\n",
            "Enter the number 4\n",
            "Einal list  [1, 2, 3, 4]\n"
          ]
        }
      ]
    },
    {
      "cell_type": "code",
      "source": [
        "#lets use Mutability and hashability\n",
        "f = (90, 89, 78, 23, 56, 45, 23, 23, 12)\n",
        "print(hash(f))\n",
        "\n",
        "g = [90, 89, 78, 23, 56, 45, 23, 23, 12]\n",
        "hash(g)    #hash can not use on list because it can be changed"
      ],
      "metadata": {
        "colab": {
          "base_uri": "https://localhost:8080/",
          "height": 193
        },
        "id": "ybcXPwZOiVK3",
        "outputId": "7d6d4234-fe4c-48af-eb4c-8764fcf5e4e3"
      },
      "execution_count": 107,
      "outputs": [
        {
          "output_type": "stream",
          "name": "stdout",
          "text": [
            "-7123682659178778967\n"
          ]
        },
        {
          "output_type": "error",
          "ename": "TypeError",
          "evalue": "unhashable type: 'list'",
          "traceback": [
            "\u001b[0;31m---------------------------------------------------------------------------\u001b[0m",
            "\u001b[0;31mTypeError\u001b[0m                                 Traceback (most recent call last)",
            "\u001b[0;32m<ipython-input-107-4ec8f4136db3>\u001b[0m in \u001b[0;36m<cell line: 0>\u001b[0;34m()\u001b[0m\n\u001b[1;32m      5\u001b[0m \u001b[0;34m\u001b[0m\u001b[0m\n\u001b[1;32m      6\u001b[0m \u001b[0mg\u001b[0m \u001b[0;34m=\u001b[0m \u001b[0;34m[\u001b[0m\u001b[0;36m90\u001b[0m\u001b[0;34m,\u001b[0m \u001b[0;36m89\u001b[0m\u001b[0;34m,\u001b[0m \u001b[0;36m78\u001b[0m\u001b[0;34m,\u001b[0m \u001b[0;36m23\u001b[0m\u001b[0;34m,\u001b[0m \u001b[0;36m56\u001b[0m\u001b[0;34m,\u001b[0m \u001b[0;36m45\u001b[0m\u001b[0;34m,\u001b[0m \u001b[0;36m23\u001b[0m\u001b[0;34m,\u001b[0m \u001b[0;36m23\u001b[0m\u001b[0;34m,\u001b[0m \u001b[0;36m12\u001b[0m\u001b[0;34m]\u001b[0m\u001b[0;34m\u001b[0m\u001b[0;34m\u001b[0m\u001b[0m\n\u001b[0;32m----> 7\u001b[0;31m \u001b[0mhash\u001b[0m\u001b[0;34m(\u001b[0m\u001b[0mg\u001b[0m\u001b[0;34m)\u001b[0m\u001b[0;34m\u001b[0m\u001b[0;34m\u001b[0m\u001b[0m\n\u001b[0m",
            "\u001b[0;31mTypeError\u001b[0m: unhashable type: 'list'"
          ]
        }
      ]
    },
    {
      "cell_type": "code",
      "source": [
        "a = range(5)\n",
        "hash(a)   #hash use only in unique value ok"
      ],
      "metadata": {
        "colab": {
          "base_uri": "https://localhost:8080/"
        },
        "id": "pxpARQTEjZ8c",
        "outputId": "4cfc522a-2a53-41a3-d357-75c548029029"
      },
      "execution_count": 108,
      "outputs": [
        {
          "output_type": "execute_result",
          "data": {
            "text/plain": [
              "5795932985296280846"
            ]
          },
          "metadata": {},
          "execution_count": 108
        }
      ]
    }
  ]
}