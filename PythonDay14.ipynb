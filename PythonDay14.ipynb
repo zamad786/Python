{
  "nbformat": 4,
  "nbformat_minor": 0,
  "metadata": {
    "colab": {
      "provenance": [],
      "authorship_tag": "ABX9TyNJfNYWe9NzS7NLOpIOZ+1M",
      "include_colab_link": true
    },
    "kernelspec": {
      "name": "python3",
      "display_name": "Python 3"
    },
    "language_info": {
      "name": "python"
    }
  },
  "cells": [
    {
      "cell_type": "markdown",
      "metadata": {
        "id": "view-in-github",
        "colab_type": "text"
      },
      "source": [
        "<a href=\"https://colab.research.google.com/github/zamad786/Python/blob/main/PythonDay14.ipynb\" target=\"_parent\"><img src=\"https://colab.research.google.com/assets/colab-badge.svg\" alt=\"Open In Colab\"/></a>"
      ]
    },
    {
      "cell_type": "code",
      "execution_count": null,
      "metadata": {
        "colab": {
          "base_uri": "https://localhost:8080/"
        },
        "id": "O9do7iaAh8Qq",
        "outputId": "c761fb16-9035-4aaf-f295-7b42b73838c6"
      },
      "outputs": [
        {
          "output_type": "stream",
          "name": "stdout",
          "text": [
            "Enter any sentece so i will extract vowels for you: what is your name\n",
            "Number of vovwels from the text 6\n"
          ]
        }
      ],
      "source": [
        "#count the vowels in a tring\n",
        "data = input(\"Enter any sentece so i will extract vowels for you: \")\n",
        "vowel = \"aeiouAEIOU\"\n",
        "count = 0\n",
        "for char in data:\n",
        "  if char in vowel:\n",
        "    count +=1\n",
        "print(\"Number of vovwels from the text\", count)"
      ]
    }
  ]
}