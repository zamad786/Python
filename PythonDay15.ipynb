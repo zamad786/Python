{
  "nbformat": 4,
  "nbformat_minor": 0,
  "metadata": {
    "colab": {
      "provenance": [],
      "authorship_tag": "ABX9TyOlg1vFRchkfmp/ads/vJsW",
      "include_colab_link": true
    },
    "kernelspec": {
      "name": "python3",
      "display_name": "Python 3"
    },
    "language_info": {
      "name": "python"
    }
  },
  "cells": [
    {
      "cell_type": "markdown",
      "metadata": {
        "id": "view-in-github",
        "colab_type": "text"
      },
      "source": [
        "<a href=\"https://colab.research.google.com/github/zamad786/Python/blob/main/PythonDay15.ipynb\" target=\"_parent\"><img src=\"https://colab.research.google.com/assets/colab-badge.svg\" alt=\"Open In Colab\"/></a>"
      ]
    },
    {
      "cell_type": "code",
      "execution_count": 6,
      "metadata": {
        "colab": {
          "base_uri": "https://localhost:8080/"
        },
        "id": "X4Onu_8hcsiB",
        "outputId": "63ca55ad-a046-482a-a87e-636b673d21bc"
      },
      "outputs": [
        {
          "output_type": "stream",
          "name": "stdout",
          "text": [
            "[1, 2, 3, 4]\n",
            "<class 'list'>\n",
            "(1, 2, 3, 4)\n",
            "<class 'tuple'>\n",
            "(1, 2, 3, 4)\n",
            "<class 'tuple'>\n",
            "()\n",
            "<class 'tuple'>\n"
          ]
        }
      ],
      "source": [
        "#how to creat tuple object\n",
        "a = [1, 2, 3, 4]   #first we create list by using []\n",
        "print(a)\n",
        "print(type(a))\n",
        "b = (1, 2, 3, 4)   #here you go we created the tuple by using ()\n",
        "print(b)\n",
        "print(type(b))\n",
        "c = 1, 2, 3, 4 #here you go second method to create tuple without brackets also\n",
        "print(c)\n",
        "print(type(c))\n",
        "d = ()    #here you go empty is also a tuple\n",
        "print(d)\n",
        "print(type(d))"
      ]
    },
    {
      "cell_type": "code",
      "source": [
        "a = (1) #now if you c it is consider as int\n",
        "print(\"a = \", a)\n",
        "print(\"a type is: \", type(a))\n",
        "\n",
        "\n",
        "b = (1,)  #here you c how to make tuple with one value by using comma ,\n",
        "print(\"b = \", b)\n",
        "print(\"b = \", type(b))"
      ],
      "metadata": {
        "colab": {
          "base_uri": "https://localhost:8080/"
        },
        "id": "eg3oceAsymTz",
        "outputId": "300a8154-ed7b-4fa9-c579-3ba4624a2f57"
      },
      "execution_count": 12,
      "outputs": [
        {
          "output_type": "stream",
          "name": "stdout",
          "text": [
            "a =  1\n",
            "a type is:  <class 'int'>\n",
            "b =  (1,)\n",
            "b =  <class 'tuple'>\n"
          ]
        }
      ]
    },
    {
      "cell_type": "code",
      "source": [
        "#indexing in tuple\n",
        "e = (1, 5, 6, 4)\n",
        "print(e[2])  #here we are calling index of positive 2\n",
        "print(e[-3])   #here we are calling negative 3"
      ],
      "metadata": {
        "colab": {
          "base_uri": "https://localhost:8080/"
        },
        "id": "OWiYTsiN0zJ9",
        "outputId": "cb7e58db-186b-42fe-e73d-0c8ba7a85a72"
      },
      "execution_count": 16,
      "outputs": [
        {
          "output_type": "stream",
          "name": "stdout",
          "text": [
            "6\n",
            "5\n"
          ]
        }
      ]
    },
    {
      "cell_type": "code",
      "source": [
        "#lets do slicing in tuples\n",
        "a = (9, 8, 7, 6, 5, 4, 3, 2, 1)\n",
        "print(a[1:7:2])\n",
        "#accessing tuple elements\n",
        "b = (9, 8, 7, 6, 5, 4, 3, 2, 1)\n",
        "b[6]\n",
        "print(b[4]) #i put index of variable a and it gives value of a"
      ],
      "metadata": {
        "colab": {
          "base_uri": "https://localhost:8080/"
        },
        "id": "mS4uyIz357BR",
        "outputId": "6948e78e-c970-41a5-b068-9d811ec3823f"
      },
      "execution_count": 25,
      "outputs": [
        {
          "output_type": "stream",
          "name": "stdout",
          "text": [
            "(8, 6, 4)\n",
            "5\n"
          ]
        }
      ]
    },
    {
      "cell_type": "code",
      "source": [
        "#using while loop in tuples\n",
        "a = (9, 8, 7, 6, 5, 4, 3, 2, 1)\n",
        "b = 0\n",
        "while (b<len(a)):    # here we are printing whole tuple\n",
        "  print(a[b])\n",
        "  b+=1"
      ],
      "metadata": {
        "colab": {
          "base_uri": "https://localhost:8080/"
        },
        "id": "fOaznVYU7M2n",
        "outputId": "b77c0f07-1da7-470e-b8fc-c41148cd4b3b"
      },
      "execution_count": 29,
      "outputs": [
        {
          "output_type": "stream",
          "name": "stdout",
          "text": [
            "9\n",
            "8\n",
            "7\n",
            "6\n",
            "5\n",
            "4\n",
            "3\n",
            "2\n",
            "1\n"
          ]
        }
      ]
    },
    {
      "cell_type": "code",
      "source": [
        "a = (9, 8, 7, 6, 5, 4, 3, 2, 1)\n",
        "b = 0\n",
        "while (b<5):    # here we are printing only 5 values from tuple\n",
        "  print(a[b])\n",
        "  b+=1"
      ],
      "metadata": {
        "colab": {
          "base_uri": "https://localhost:8080/"
        },
        "id": "lp8pmj9y8GUB",
        "outputId": "2042a506-00f9-4cdc-eb55-886225ef20c2"
      },
      "execution_count": 32,
      "outputs": [
        {
          "output_type": "stream",
          "name": "stdout",
          "text": [
            "9\n",
            "8\n",
            "7\n",
            "6\n",
            "5\n"
          ]
        }
      ]
    },
    {
      "cell_type": "code",
      "source": [
        "#using for loop\n",
        "a = (9, 8, 7, 6, 5, 4, 3, 2, 1)\n",
        "for b in a:\n",
        "  print(b)"
      ],
      "metadata": {
        "colab": {
          "base_uri": "https://localhost:8080/"
        },
        "id": "c2m6-VnF8kd6",
        "outputId": "b4f15236-c0ec-4720-c79d-43570ff66b5b"
      },
      "execution_count": 33,
      "outputs": [
        {
          "output_type": "stream",
          "name": "stdout",
          "text": [
            "9\n",
            "8\n",
            "7\n",
            "6\n",
            "5\n",
            "4\n",
            "3\n",
            "2\n",
            "1\n"
          ]
        }
      ]
    },
    {
      "cell_type": "code",
      "source": [
        "#lets Use function on tuple\n",
        "a = (9, 8, 7, 6, 5, 4, 3, 2, 1, 5, 5, 5)\n",
        "print(\"Length of a is\", len(a))\n",
        "print(\"Minimum of a is\", min(a))\n",
        "print(\"Maximum of a is\", max(a))\n",
        "print(\"Sum of a is\", sum(a))\n",
        "print(\"Sorted tuple of a is\", sorted(a))\n",
        "b = (1, 2, 3, 4)\n",
        "print(\"Reverse of a is\", sorted(b, reverse=True))\n",
        "print(\"here we are going to concatinate tubples a and b \", a + b)    #concatination\n",
        "print(\"Here we are going to repeate the b tuple 2 times\", b*2)\n",
        "print(\"Lets do a comparison of and b \", a<b) #it do comaprison on values not on lenght ok\n",
        "print(\"Lets do a comparison of and b \", a==b)\n",
        "print(\"Lets do a comparison of and b \", a>b)\n",
        "print(\"Lets find the index of 3 in b vaiable :\", b.index(3))\n",
        "print(\"Lets find the count value of 5 in variable a is\", a.count(5)) #here you c that how many times 5 come in a variable"
      ],
      "metadata": {
        "colab": {
          "base_uri": "https://localhost:8080/"
        },
        "id": "G5gd68yz82ac",
        "outputId": "ec252c18-b965-484a-9165-a620e11e8dd6"
      },
      "execution_count": 65,
      "outputs": [
        {
          "output_type": "stream",
          "name": "stdout",
          "text": [
            "Length of a is 12\n",
            "Minimum of a is 1\n",
            "Maximum of a is 9\n",
            "Sum of a is 60\n",
            "Sorted tuple of a is [1, 2, 3, 4, 5, 5, 5, 5, 6, 7, 8, 9]\n",
            "Reverse of a is [4, 3, 2, 1]\n",
            "here we are going to concatinate tubples a and b  (9, 8, 7, 6, 5, 4, 3, 2, 1, 5, 5, 5, 1, 2, 3, 4)\n",
            "Here we are going to repeate the b tuple 2 times (1, 2, 3, 4, 1, 2, 3, 4)\n",
            "Lets do a comparison of and b  False\n",
            "Lets do a comparison of and b  False\n",
            "Lets do a comparison of and b  True\n",
            "Lets find the index of 3 in b vaiable : 2\n",
            "Lets find the count value of 5 in variable a is 4\n"
          ]
        }
      ]
    },
    {
      "cell_type": "code",
      "source": [],
      "metadata": {
        "colab": {
          "base_uri": "https://localhost:8080/"
        },
        "id": "wGYbkNst91q9",
        "outputId": "8e0b94d9-703b-456f-c1be-4e7671d279b1"
      },
      "execution_count": 62,
      "outputs": [
        {
          "output_type": "execute_result",
          "data": {
            "text/plain": [
              "1"
            ]
          },
          "metadata": {},
          "execution_count": 62
        }
      ]
    }
  ]
}