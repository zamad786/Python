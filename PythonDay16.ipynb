{
  "nbformat": 4,
  "nbformat_minor": 0,
  "metadata": {
    "colab": {
      "provenance": [],
      "authorship_tag": "ABX9TyOlHxbxMcL4VyPo47cIhrqq",
      "include_colab_link": true
    },
    "kernelspec": {
      "name": "python3",
      "display_name": "Python 3"
    },
    "language_info": {
      "name": "python"
    }
  },
  "cells": [
    {
      "cell_type": "markdown",
      "metadata": {
        "id": "view-in-github",
        "colab_type": "text"
      },
      "source": [
        "<a href=\"https://colab.research.google.com/github/zamad786/Python/blob/main/PythonDay16.ipynb\" target=\"_parent\"><img src=\"https://colab.research.google.com/assets/colab-badge.svg\" alt=\"Open In Colab\"/></a>"
      ]
    },
    {
      "cell_type": "code",
      "execution_count": 2,
      "metadata": {
        "colab": {
          "base_uri": "https://localhost:8080/"
        },
        "id": "TW_PjMjzB2yV",
        "outputId": "a600b72b-d41e-435e-ee7a-ba2f90ff03c3"
      },
      "outputs": [
        {
          "output_type": "stream",
          "name": "stdout",
          "text": [
            "{1, 2, 3, 4, 5} <class 'set'>\n",
            "{1, 2, 3, 4, 5, 6} <class 'set'>\n"
          ]
        }
      ],
      "source": [
        "#lets create set\n",
        "a = {1, 2, 3, 4, 5}\n",
        "print(a,type(a))\n",
        "b = {1, 1, 2, 2, 3, 5, 4, 6, 5}\n",
        "print(b,type(b)) #here you go set did not print duplicate values"
      ]
    },
    {
      "cell_type": "code",
      "source": [
        "#lets check the empty set\n",
        "a = {}\n",
        "print(a, type(a))  #here you go if we make it empty then it would become dict so for that we have to put value in it"
      ],
      "metadata": {
        "colab": {
          "base_uri": "https://localhost:8080/"
        },
        "id": "8ZRyiXFUJTJP",
        "outputId": "232ae5cb-0164-4540-a2cc-a2b4485e02d7"
      },
      "execution_count": 3,
      "outputs": [
        {
          "output_type": "stream",
          "name": "stdout",
          "text": [
            "{} <class 'dict'>\n"
          ]
        }
      ]
    },
    {
      "cell_type": "code",
      "source": [
        "a = set([10])\n",
        "print(\"a value is \", a,type(a))\n",
        "\n",
        "\n",
        "\n",
        "b = set([1, 2, 3, 4, 4, 5, 5, 6, 7, 6])\n",
        "print(\"value of b is \", b,type(b))"
      ],
      "metadata": {
        "colab": {
          "base_uri": "https://localhost:8080/"
        },
        "id": "Jx3P7TW8Re5O",
        "outputId": "c44b86ab-21d9-4998-e8d6-aabebd659fbc"
      },
      "execution_count": 12,
      "outputs": [
        {
          "output_type": "stream",
          "name": "stdout",
          "text": [
            "a value is  {10} <class 'set'>\n",
            "value of b is  {1, 2, 3, 4, 5, 6, 7} <class 'set'>\n"
          ]
        }
      ]
    },
    {
      "cell_type": "code",
      "source": [
        "b = {0, 1, 2, 3, 4, 4, 5, 5, 6, 7, 6, 8}\n",
        "print(\"Here we know the length \", len(b))   #here you c it cant count the double value\n",
        "print(\"Here wee know the minimum value of b \", min(b)) #here we c the lowest value of b\n",
        "print(\"Here we know the maximum value of b \", max(b))   #here we c the maximum value of b\n",
        "#print(\"Here we are going to sort b \", reverse(b)) #it cannot be reverse because it is set\n",
        "c = {9, 8, 7, 6, 5, 4, 3, 2, 1}\n",
        "print(\"Here we going to sort the c value \", sorted(c))"
      ],
      "metadata": {
        "colab": {
          "base_uri": "https://localhost:8080/"
        },
        "id": "FruhHGCBnc3_",
        "outputId": "ee93b02e-4f9f-4a3e-ad59-6007e11f314f"
      },
      "execution_count": 23,
      "outputs": [
        {
          "output_type": "stream",
          "name": "stdout",
          "text": [
            "Here we know the length  9\n",
            "Here wee know the minimum value of b  0\n",
            "Here we know the maximum value of b  8\n",
            "Here we going to sort the c value  [1, 2, 3, 4, 5, 6, 7, 8, 9]\n"
          ]
        }
      ]
    },
    {
      "cell_type": "code",
      "source": [
        "#Lets work on dict\n",
        "#first we use roll number then we write name\n",
        "a = {1:'Ali', 2:'Zamad', 3:'Hamad', 4:'Khushi', 5:'Ali'}\n",
        "print(a, type(a))   #Here we write the dict\n",
        "\n",
        "\n",
        "b = {1:'Ali',\n",
        "     2:'Zamad',\n",
        "     3:'Hamad',\n",
        "     4:'Khushi',\n",
        "     5:'Ali'}\n",
        "print(b, type(b))   #second method to write dict\n",
        "\n",
        "\n",
        "\n",
        "\n",
        "c = dict(Ali = 1, Zamad = 2, Hamad = 3, Khushi = 4, Naveed = 5)\n",
        "print(c, type(c))    #third method to write dict"
      ],
      "metadata": {
        "colab": {
          "base_uri": "https://localhost:8080/"
        },
        "id": "iyWF_UbTs6eU",
        "outputId": "2dd23c6f-3ae9-4624-fe87-f239170ff32c"
      },
      "execution_count": 31,
      "outputs": [
        {
          "output_type": "stream",
          "name": "stdout",
          "text": [
            "{1: 'Ali', 2: 'Zamad', 3: 'Hamad', 4: 'Khushi', 5: 'Ali'} <class 'dict'>\n",
            "{1: 'Ali', 2: 'Zamad', 3: 'Hamad', 4: 'Khushi', 5: 'Ali'} <class 'dict'>\n",
            "{'Ali': 1, 'Zamad': 2, 'Hamad': 3, 'Khushi': 4, 'Naveed': 5} <class 'dict'>\n"
          ]
        }
      ]
    },
    {
      "cell_type": "code",
      "source": [
        "#lets access element in dict with the help of key\n",
        "a = {1:'Ali', 2:'Zamad', 3:'Hamad', 4:'Khushi', 5:'Ali'}\n",
        "print(\"Here is the value of a :\", a, \"Lets access the vlaue of 3:\", a.get(3))\n",
        "print(a[2])    #direct access"
      ],
      "metadata": {
        "colab": {
          "base_uri": "https://localhost:8080/"
        },
        "id": "dIvXZEu82oi6",
        "outputId": "6f454a8d-529c-4e60-f691-3c85ecc8626f"
      },
      "execution_count": 36,
      "outputs": [
        {
          "output_type": "stream",
          "name": "stdout",
          "text": [
            "Here is the value of a : {1: 'Ali', 2: 'Zamad', 3: 'Hamad', 4: 'Khushi', 5: 'Ali'} Lets access the vlaue of 3: Hamad\n",
            "Zamad\n"
          ]
        }
      ]
    },
    {
      "cell_type": "code",
      "source": [
        "#lets use for loop in dict\n",
        "a = {1:'Ali', 2:'Zamad', 3:'Hamad', 4:'Khushi', 5:'Ali'}\n",
        "for b in a:\n",
        "  print(b) #here we acces the key\n",
        "\n",
        "\n",
        "\n",
        "c = {1:'Ali', 2:'Zamad', 3:'Hamad', 4:'Khushi', 5:'Ali'}\n",
        "for d in c:\n",
        "  print(d, c[d])    #here we access the key and value both\n",
        "\n",
        "\n",
        "del c[3]\n",
        "print(\"Here we going to delete the key and value of 3: \", c)\n",
        "\n",
        "f = {1:'Ali', 2:'Zamad', 3:'Hamad', 4:'Khushi', 5:'Ali'}\n",
        "f[3] = \"Qureshi\"\n",
        "print(\"Here we change the value of 3 :\", f)\n",
        "\n",
        "\n",
        "\n",
        "e = {1:'Ali', 2:'Zamad', 3:'Hamad', 4:'Khushi', 5:'Ali'}\n",
        "e[6] = \"Jawad\"\n",
        "print(\"Here we have added the new vlaue :\", e)\n",
        "print(\"Here we are going to know the items: \", e.items())\n",
        "print(\"Here we are going to know the key :\", e.keys())\n",
        "print(\"Here we know the value: \", e.values())\n",
        "\n",
        "\n",
        "for i in e.values():\n",
        "  print(\"Here we get the values of e: \", i)\n",
        "\n",
        "\n",
        "for j in e.keys():\n",
        "  print(\"Here we know the key of e: \", j)\n",
        "\n",
        "\n",
        "\n",
        "for k,l in e.items():\n",
        "  print(\"here we know the items of e: \", k,l)\n",
        "\n",
        "\n",
        "print(\"Lets find the length of e: \", len(e))\n",
        "print(\"Lets find the maximum of e: \", max(e))\n",
        "print(\"Lets find the minimum of e: \", min(e))\n",
        "print(\"Lets find the addition of e: \", sum(e))\n",
        "print(\"Lets reverse keys of e: \", sorted(e, reverse = True))\n",
        "\n",
        "\n",
        "g = {6:'zamad', 5:'Ali', 4:'Jawad', 3:'Hamad', 2:'Khushi', 1:'Qureshi'}\n",
        "print(\"here we sort keys of g: \", sorted(g))\n",
        "\n",
        "\n",
        "print(g.pop(4))\n",
        "print(\"Here you c we deleted the value od 4:\", g)\n",
        "\n",
        "\n",
        "print(g.popitem())\n",
        "print(\"Here we deleted the last vlaue:\", g)\n",
        "\n",
        "\n",
        "print(g.clear())\n",
        "print(\"Here we c that g is cleared: \", g)"
      ],
      "metadata": {
        "colab": {
          "base_uri": "https://localhost:8080/"
        },
        "id": "BrtFSuxv3wiU",
        "outputId": "b5d1c80b-df69-4dc1-abd6-1bb80e35af2d"
      },
      "execution_count": 79,
      "outputs": [
        {
          "output_type": "stream",
          "name": "stdout",
          "text": [
            "1\n",
            "2\n",
            "3\n",
            "4\n",
            "5\n",
            "1 Ali\n",
            "2 Zamad\n",
            "3 Hamad\n",
            "4 Khushi\n",
            "5 Ali\n",
            "Here we going to delete the key and value of 3:  {1: 'Ali', 2: 'Zamad', 4: 'Khushi', 5: 'Ali'}\n",
            "Here we change the value of 3 : {1: 'Ali', 2: 'Zamad', 3: 'Qureshi', 4: 'Khushi', 5: 'Ali'}\n",
            "Here we have added the new vlaue : {1: 'Ali', 2: 'Zamad', 3: 'Hamad', 4: 'Khushi', 5: 'Ali', 6: 'Jawad'}\n",
            "Here we are going to know the items:  dict_items([(1, 'Ali'), (2, 'Zamad'), (3, 'Hamad'), (4, 'Khushi'), (5, 'Ali'), (6, 'Jawad')])\n",
            "Here we are going to know the key : dict_keys([1, 2, 3, 4, 5, 6])\n",
            "Here we know the value:  dict_values(['Ali', 'Zamad', 'Hamad', 'Khushi', 'Ali', 'Jawad'])\n",
            "Here we get the values of e:  Ali\n",
            "Here we get the values of e:  Zamad\n",
            "Here we get the values of e:  Hamad\n",
            "Here we get the values of e:  Khushi\n",
            "Here we get the values of e:  Ali\n",
            "Here we get the values of e:  Jawad\n",
            "Here we know the key of e:  1\n",
            "Here we know the key of e:  2\n",
            "Here we know the key of e:  3\n",
            "Here we know the key of e:  4\n",
            "Here we know the key of e:  5\n",
            "Here we know the key of e:  6\n",
            "here we know the items of e:  1 Ali\n",
            "here we know the items of e:  2 Zamad\n",
            "here we know the items of e:  3 Hamad\n",
            "here we know the items of e:  4 Khushi\n",
            "here we know the items of e:  5 Ali\n",
            "here we know the items of e:  6 Jawad\n",
            "Lets find the length of e:  6\n",
            "Lets find the maximum of e:  6\n",
            "Lets find the minimum of e:  1\n",
            "Lets find the addition of e:  21\n",
            "Lets reverse keys of e:  [6, 5, 4, 3, 2, 1]\n",
            "here we sort keys of g:  [1, 2, 3, 4, 5, 6]\n",
            "Jawad\n",
            "Here you c we deleted the value od 4: {6: 'zamad', 5: 'Ali', 3: 'Hamad', 2: 'Khushi', 1: 'Qureshi'}\n",
            "(1, 'Qureshi')\n",
            "Here we deleted the last vlaue: {6: 'zamad', 5: 'Ali', 3: 'Hamad', 2: 'Khushi'}\n",
            "None\n",
            "Here we c that g is cleared:  {}\n"
          ]
        }
      ]
    },
    {
      "cell_type": "code",
      "source": [],
      "metadata": {
        "id": "CnhPIg9rBx_R"
      },
      "execution_count": null,
      "outputs": []
    }
  ]
}