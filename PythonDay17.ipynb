{
  "nbformat": 4,
  "nbformat_minor": 0,
  "metadata": {
    "colab": {
      "provenance": [],
      "authorship_tag": "ABX9TyPkWpyxRfo+8Vt/1u+yftmo",
      "include_colab_link": true
    },
    "kernelspec": {
      "name": "python3",
      "display_name": "Python 3"
    },
    "language_info": {
      "name": "python"
    }
  },
  "cells": [
    {
      "cell_type": "markdown",
      "metadata": {
        "id": "view-in-github",
        "colab_type": "text"
      },
      "source": [
        "<a href=\"https://colab.research.google.com/github/zamad786/Python/blob/main/PythonDay17.ipynb\" target=\"_parent\"><img src=\"https://colab.research.google.com/assets/colab-badge.svg\" alt=\"Open In Colab\"/></a>"
      ]
    },
    {
      "cell_type": "code",
      "execution_count": 9,
      "metadata": {
        "colab": {
          "base_uri": "https://localhost:8080/"
        },
        "id": "OM5gMycC_28U",
        "outputId": "4b38695f-fbdc-43dd-fb2b-fd70a1330518"
      },
      "outputs": [
        {
          "output_type": "stream",
          "name": "stdout",
          "text": [
            "a =  5\n",
            "Enter a number: 3\n",
            "The square of 3 is: 9\n"
          ]
        }
      ],
      "source": [
        "#Simple Code\n",
        "a = 5\n",
        "print(\"a = \",a)\n",
        "\n",
        "\n",
        "b = int(input(\"Enter a number: \"))\n",
        "c = b**2\n",
        "print(\"The square of\", b, \"is:\", c)\n",
        "#now if i take square again so i have to write code again"
      ]
    },
    {
      "cell_type": "code",
      "source": [
        "def greeting():\n",
        "  print(\"Welcome to Python\")\n",
        "  print(\"Lets learn python\")\n",
        "\n",
        "\n",
        "greeting()"
      ],
      "metadata": {
        "colab": {
          "base_uri": "https://localhost:8080/"
        },
        "id": "VW9d85w7CBJ_",
        "outputId": "b49658e5-a193-4595-e4af-00b1f2509783"
      },
      "execution_count": 11,
      "outputs": [
        {
          "output_type": "stream",
          "name": "stdout",
          "text": [
            "Welcome to Python\n",
            "Lets learn python\n"
          ]
        }
      ]
    },
    {
      "cell_type": "code",
      "source": [
        "#Lets define a function\n",
        "def square():\n",
        "  b = int(input(\"Enter a number: \"))\n",
        "  c = b**2\n",
        "  print(\"The square of\", b, \"is:\", c)\n",
        "  d = c-b\n",
        "  print(\"Lets minus\", c ,\"from \",b , \"and the answer is:\", d)\n",
        "square()"
      ],
      "metadata": {
        "colab": {
          "base_uri": "https://localhost:8080/"
        },
        "id": "8nvL01h9DHPl",
        "outputId": "0bb5b73a-8a7e-4ce8-86e3-1e71e49ee2fd"
      },
      "execution_count": 15,
      "outputs": [
        {
          "output_type": "stream",
          "name": "stdout",
          "text": [
            "Enter a number: 5\n",
            "The square of 5 is: 25\n",
            "Lets minus 25 from  5 and the answer is: 20\n"
          ]
        }
      ]
    },
    {
      "cell_type": "code",
      "source": [
        "#there aer 4 types of functions\n",
        "#1: Takes Nothing, Returns Nothing\n",
        "#2: Takes something, Returns Nothing\n",
        "#3: Takes Nothing, return something\n",
        "#4: Takes something , return something"
      ],
      "metadata": {
        "id": "76vifLefEpLf"
      },
      "execution_count": null,
      "outputs": []
    },
    {
      "cell_type": "code",
      "source": [
        "def a():\n",
        "  b = int(input(\"Enter a number: \"))\n",
        "  c = b+2\n",
        "  print(\"Add the 2 in taken number\", c)\n",
        "  return(b)\n",
        "\n",
        "def d():\n",
        "  b = a()\n",
        "  e = (b - 1)\n",
        "  print(\"The value of e is: \",e)\n",
        "d()"
      ],
      "metadata": {
        "colab": {
          "base_uri": "https://localhost:8080/"
        },
        "id": "ae3i_AMqFV14",
        "outputId": "9350bfe9-6147-46f6-ca82-df6af50c41d3"
      },
      "execution_count": 28,
      "outputs": [
        {
          "output_type": "stream",
          "name": "stdout",
          "text": [
            "Enter a number: 5\n",
            "Add the 2 in taken number 7\n",
            "The value of e is:  4\n"
          ]
        }
      ]
    },
    {
      "cell_type": "code",
      "source": [
        "#takes nothing , Returns Nothing\n",
        "def sum():\n",
        "  b = print(\"Enter 2 numbers: \")\n",
        "  c = int(input())\n",
        "  d = int(input())\n",
        "  e = c+d\n",
        "  print(\"Here you go the sum of your values: \", e)\n",
        "\n",
        "sum()"
      ],
      "metadata": {
        "colab": {
          "base_uri": "https://localhost:8080/"
        },
        "id": "hm2OXD6WLM1o",
        "outputId": "48d2496c-a851-4f1d-e401-d9370ffa16a4"
      },
      "execution_count": 30,
      "outputs": [
        {
          "output_type": "stream",
          "name": "stdout",
          "text": [
            "Enter 2 numbers: \n",
            "1\n",
            "2\n",
            "Here you go the sum of your values:  3\n"
          ]
        }
      ]
    },
    {
      "cell_type": "code",
      "source": [
        "#takes something , Return nothing\n",
        "def add(a, b):\n",
        "  c = a+b\n",
        "  print(\"Here is the sum: \",c)\n",
        "\n",
        "add(20, 30)"
      ],
      "metadata": {
        "colab": {
          "base_uri": "https://localhost:8080/"
        },
        "id": "lXy9EaI4MNEE",
        "outputId": "50bb7658-4860-481a-eecc-2bf529c43fb9"
      },
      "execution_count": 31,
      "outputs": [
        {
          "output_type": "stream",
          "name": "stdout",
          "text": [
            "Here is the sum:  50\n"
          ]
        }
      ]
    },
    {
      "cell_type": "code",
      "source": [
        "#default argument value in function\n",
        "def multiply(a,b,c):\n",
        "  a = int(input(\"Enter first value: \"))\n",
        "  b = int(input(\"Enter Second value: \"))\n",
        "  c = int(input(\"Enter third value: \"))\n",
        "  d = a*b*c\n",
        "  return d\n",
        "print(\"Lets multiply: \", multiply(a,b,c))"
      ],
      "metadata": {
        "colab": {
          "base_uri": "https://localhost:8080/"
        },
        "id": "FmXsgeOVMvPT",
        "outputId": "424b0d7a-a576-463e-835f-eeea00e9adb2"
      },
      "execution_count": 34,
      "outputs": [
        {
          "output_type": "stream",
          "name": "stdout",
          "text": [
            "Enter first value: 2\n",
            "Enter Second value: 3\n",
            "Enter third value: 5\n",
            "Lets multiply:  30\n"
          ]
        }
      ]
    },
    {
      "cell_type": "code",
      "source": [],
      "metadata": {
        "id": "NDSudi4wVvR9"
      },
      "execution_count": null,
      "outputs": []
    }
  ]
}