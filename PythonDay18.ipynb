{
  "cells": [
    {
      "cell_type": "markdown",
      "metadata": {
        "id": "view-in-github",
        "colab_type": "text"
      },
      "source": [
        "<a href=\"https://colab.research.google.com/github/zamad786/Python/blob/main/PythonDay18.ipynb\" target=\"_parent\"><img src=\"https://colab.research.google.com/assets/colab-badge.svg\" alt=\"Open In Colab\"/></a>"
      ]
    },
    {
      "cell_type": "code",
      "execution_count": 30,
      "metadata": {
        "colab": {
          "base_uri": "https://localhost:8080/"
        },
        "id": "bZY2pZS-O3_4",
        "outputId": "85840cdc-0709-41c0-a851-7401589d7ea8"
      },
      "outputs": [
        {
          "output_type": "stream",
          "name": "stdout",
          "text": [
            "Zamad\n",
            "<class 'function'>\n",
            "ZamadQureshi\n",
            "Enter your kid name: zamad\n",
            "Your kids name is: zamad\n"
          ]
        }
      ],
      "source": [
        "def a(names):\n",
        "  print(names)\n",
        "a(\"Zamad\")\n",
        "print(type(a))\n",
        "\n",
        "\n",
        "def b(Fname, Lname):\n",
        "  print(Fname + Lname)\n",
        "b(\"Zamad\", \"Qureshi\")\n",
        "\n",
        "\n",
        "\n",
        "def c(name):\n",
        "  kid = input(\"Enter your kid name: \")\n",
        "  print(\"Your kids name is:\", kid)\n",
        "\n",
        "c(\"name\")"
      ]
    },
    {
      "cell_type": "code",
      "source": [
        "def a(country = \"Pakistan\"):\n",
        "  print(\"I am from: \",country)\n",
        "a()\n",
        "a(\"USA\")\n",
        "\n",
        "\n",
        "def b(*name):\n",
        "  print(\"Your kids name is: \",name)\n",
        "b(\"Ali\", \"Zamad\", \"Qureshi\")\n",
        "\n",
        "\n",
        "def c(**names):\n",
        "  print(\"Here is your keyword and arguments: \", names)\n",
        "c(a=\"Ali\", b=\"Zamad\", c=\"Qureshi\")"
      ],
      "metadata": {
        "colab": {
          "base_uri": "https://localhost:8080/"
        },
        "id": "I0qBroqhauRI",
        "outputId": "e60c26d4-f4c4-45c9-980a-cc080e94c618"
      },
      "execution_count": 34,
      "outputs": [
        {
          "output_type": "stream",
          "name": "stdout",
          "text": [
            "I am from:  Pakistan\n",
            "I am from:  USA\n",
            "Your kids name is:  ('Ali', 'Zamad', 'Qureshi')\n",
            "Here is your keyword and arguments:  {'a': 'Ali', 'b': 'Zamad', 'c': 'Qureshi'}\n"
          ]
        }
      ]
    },
    {
      "cell_type": "code",
      "source": [
        "def a(things):\n",
        "  for x in things:\n",
        "    print(x)\n",
        "    return things\n",
        "objects = [\"chair\", \"table\", \"sofa\", \"bed\"]\n",
        "a(print(\"your objects are\", objects))"
      ],
      "metadata": {
        "colab": {
          "base_uri": "https://localhost:8080/",
          "height": 315
        },
        "id": "Em6TDm53bfpC",
        "outputId": "44f45e2f-341e-40aa-db6e-fa6afad81be5"
      },
      "execution_count": 38,
      "outputs": [
        {
          "output_type": "stream",
          "name": "stdout",
          "text": [
            "your objects are ['chair', 'table', 'sofa', 'bed']\n"
          ]
        },
        {
          "output_type": "error",
          "ename": "TypeError",
          "evalue": "'NoneType' object is not iterable",
          "traceback": [
            "\u001b[0;31m---------------------------------------------------------------------------\u001b[0m",
            "\u001b[0;31mTypeError\u001b[0m                                 Traceback (most recent call last)",
            "\u001b[0;32m<ipython-input-38-5a2918338345>\u001b[0m in \u001b[0;36m<cell line: 0>\u001b[0;34m()\u001b[0m\n\u001b[1;32m      4\u001b[0m     \u001b[0;32mreturn\u001b[0m \u001b[0mthings\u001b[0m\u001b[0;34m\u001b[0m\u001b[0;34m\u001b[0m\u001b[0m\n\u001b[1;32m      5\u001b[0m \u001b[0mobjects\u001b[0m \u001b[0;34m=\u001b[0m \u001b[0;34m[\u001b[0m\u001b[0;34m\"chair\"\u001b[0m\u001b[0;34m,\u001b[0m \u001b[0;34m\"table\"\u001b[0m\u001b[0;34m,\u001b[0m \u001b[0;34m\"sofa\"\u001b[0m\u001b[0;34m,\u001b[0m \u001b[0;34m\"bed\"\u001b[0m\u001b[0;34m]\u001b[0m\u001b[0;34m\u001b[0m\u001b[0;34m\u001b[0m\u001b[0m\n\u001b[0;32m----> 6\u001b[0;31m \u001b[0ma\u001b[0m\u001b[0;34m(\u001b[0m\u001b[0mprint\u001b[0m\u001b[0;34m(\u001b[0m\u001b[0;34m\"your objects are\"\u001b[0m\u001b[0;34m,\u001b[0m \u001b[0mobjects\u001b[0m\u001b[0;34m)\u001b[0m\u001b[0;34m)\u001b[0m\u001b[0;34m\u001b[0m\u001b[0;34m\u001b[0m\u001b[0m\n\u001b[0m",
            "\u001b[0;32m<ipython-input-38-5a2918338345>\u001b[0m in \u001b[0;36ma\u001b[0;34m(things)\u001b[0m\n\u001b[1;32m      1\u001b[0m \u001b[0;32mdef\u001b[0m \u001b[0ma\u001b[0m\u001b[0;34m(\u001b[0m\u001b[0mthings\u001b[0m\u001b[0;34m)\u001b[0m\u001b[0;34m:\u001b[0m\u001b[0;34m\u001b[0m\u001b[0;34m\u001b[0m\u001b[0m\n\u001b[0;32m----> 2\u001b[0;31m   \u001b[0;32mfor\u001b[0m \u001b[0mx\u001b[0m \u001b[0;32min\u001b[0m \u001b[0mthings\u001b[0m\u001b[0;34m:\u001b[0m\u001b[0;34m\u001b[0m\u001b[0;34m\u001b[0m\u001b[0m\n\u001b[0m\u001b[1;32m      3\u001b[0m     \u001b[0mprint\u001b[0m\u001b[0;34m(\u001b[0m\u001b[0mx\u001b[0m\u001b[0;34m)\u001b[0m\u001b[0;34m\u001b[0m\u001b[0;34m\u001b[0m\u001b[0m\n\u001b[1;32m      4\u001b[0m     \u001b[0;32mreturn\u001b[0m \u001b[0mthings\u001b[0m\u001b[0;34m\u001b[0m\u001b[0;34m\u001b[0m\u001b[0m\n\u001b[1;32m      5\u001b[0m \u001b[0mobjects\u001b[0m \u001b[0;34m=\u001b[0m \u001b[0;34m[\u001b[0m\u001b[0;34m\"chair\"\u001b[0m\u001b[0;34m,\u001b[0m \u001b[0;34m\"table\"\u001b[0m\u001b[0;34m,\u001b[0m \u001b[0;34m\"sofa\"\u001b[0m\u001b[0;34m,\u001b[0m \u001b[0;34m\"bed\"\u001b[0m\u001b[0;34m]\u001b[0m\u001b[0;34m\u001b[0m\u001b[0;34m\u001b[0m\u001b[0m\n",
            "\u001b[0;31mTypeError\u001b[0m: 'NoneType' object is not iterable"
          ]
        }
      ]
    },
    {
      "cell_type": "code",
      "source": [
        "def a(x):\n",
        "  return x * 2\n",
        "print(a(3))\n",
        "print(a(4))\n",
        "\n",
        "\n",
        "\n",
        "def b(x):\n",
        "  pass\n",
        "b(c)"
      ],
      "metadata": {
        "colab": {
          "base_uri": "https://localhost:8080/"
        },
        "id": "QA3JSJE3c2Ae",
        "outputId": "af534234-086f-4522-ef1d-0269ba7f7c4a"
      },
      "execution_count": 43,
      "outputs": [
        {
          "output_type": "stream",
          "name": "stdout",
          "text": [
            "6\n",
            "8\n"
          ]
        }
      ]
    }
  ],
  "metadata": {
    "colab": {
      "provenance": [],
      "authorship_tag": "ABX9TyPSkUdSLA4mdcJBrlSAKqxl",
      "include_colab_link": true
    },
    "kernelspec": {
      "display_name": "Python 3",
      "name": "python3"
    },
    "language_info": {
      "name": "python"
    }
  },
  "nbformat": 4,
  "nbformat_minor": 0
}