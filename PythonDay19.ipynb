{
  "nbformat": 4,
  "nbformat_minor": 0,
  "metadata": {
    "colab": {
      "provenance": [],
      "authorship_tag": "ABX9TyNLZDJ0zk9q4i19ucoZNEWF",
      "include_colab_link": true
    },
    "kernelspec": {
      "name": "python3",
      "display_name": "Python 3"
    },
    "language_info": {
      "name": "python"
    }
  },
  "cells": [
    {
      "cell_type": "markdown",
      "metadata": {
        "id": "view-in-github",
        "colab_type": "text"
      },
      "source": [
        "<a href=\"https://colab.research.google.com/github/zamad786/Python/blob/main/PythonDay19.ipynb\" target=\"_parent\"><img src=\"https://colab.research.google.com/assets/colab-badge.svg\" alt=\"Open In Colab\"/></a>"
      ]
    },
    {
      "cell_type": "code",
      "execution_count": 6,
      "metadata": {
        "id": "eOXfRYlVOk9u",
        "colab": {
          "base_uri": "https://localhost:8080/"
        },
        "outputId": "7fde9350-34af-4ead-9fae-5a449bcc2140"
      },
      "outputs": [
        {
          "name": "stdout",
          "output_type": "stream",
          "text": [
            "Enter bookid\n",
            "5431\n",
            "Enter Book Title: python\n",
            "Enter Book Price: 5400\n"
          ]
        },
        {
          "output_type": "execute_result",
          "data": {
            "text/plain": [
              "(5431, 'python', '5400')"
            ]
          },
          "metadata": {},
          "execution_count": 6
        }
      ],
      "source": [
        "def inputbook():\n",
        "  print(\"Enter bookid\")\n",
        "  bookid = int(input())\n",
        "  title = input(\"Enter Book Title: \")\n",
        "  price = input(\"Enter Book Price: \")\n",
        "  mybook = (bookid, title, price)\n",
        "  return mybook\n",
        "inputbook()"
      ]
    },
    {
      "cell_type": "code",
      "source": [
        "#Lets learn oop in python\n",
        "class test:   #Class object with name test\n",
        "  a = 4\n",
        "  b = 3\n",
        "  def c(self):\n",
        "    print(\"Hello\")\n",
        "\n",
        "t1 = test()   #instance object created\n",
        "t2 = test()\n",
        "t3 = test()\n",
        "\n",
        "t1.c()   #instance method is call\n",
        "print(t1)\n",
        "print(type(t1))\n",
        "\n",
        "t2.c()"
      ],
      "metadata": {
        "colab": {
          "base_uri": "https://localhost:8080/"
        },
        "id": "d04ie8AnVJ7x",
        "outputId": "1cb021ea-7c2c-42f1-9ecc-2197dd3f3a61"
      },
      "execution_count": 10,
      "outputs": [
        {
          "output_type": "stream",
          "name": "stdout",
          "text": [
            "Hello\n",
            "<__main__.test object at 0x7952dfb47b10>\n",
            "<class '__main__.test'>\n",
            "Hello\n"
          ]
        }
      ]
    }
  ]
}