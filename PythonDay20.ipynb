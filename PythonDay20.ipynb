{
  "nbformat": 4,
  "nbformat_minor": 0,
  "metadata": {
    "colab": {
      "provenance": [],
      "authorship_tag": "ABX9TyPpQ5+IpskUhKAyR3cDHBnm",
      "include_colab_link": true
    },
    "kernelspec": {
      "name": "python3",
      "display_name": "Python 3"
    },
    "language_info": {
      "name": "python"
    }
  },
  "cells": [
    {
      "cell_type": "markdown",
      "metadata": {
        "id": "view-in-github",
        "colab_type": "text"
      },
      "source": [
        "<a href=\"https://colab.research.google.com/github/zamad786/Python/blob/main/PythonDay20.ipynb\" target=\"_parent\"><img src=\"https://colab.research.google.com/assets/colab-badge.svg\" alt=\"Open In Colab\"/></a>"
      ]
    },
    {
      "cell_type": "code",
      "execution_count": null,
      "metadata": {
        "colab": {
          "base_uri": "https://localhost:8080/"
        },
        "id": "Kd8HOij8RMHv",
        "outputId": "e634f8a9-2ca9-4f28-e473-c87df0db5ae8"
      },
      "outputs": [
        {
          "output_type": "stream",
          "name": "stdout",
          "text": [
            "books\n",
            "books\n"
          ]
        }
      ],
      "source": [
        "class car:\n",
        "  pass  #class is empty now\n",
        "\n",
        "\n",
        "my_car = car()   #my_car is an object of class car\n",
        "\n",
        "\n",
        "\n",
        "\n",
        "class book:\n",
        "  def __init__(self):\n",
        "    print(\"books\")\n",
        "chem = book()\n",
        "phy = book()"
      ]
    },
    {
      "cell_type": "code",
      "source": [
        "class car:\n",
        "  def __init__(self, Brand, colour):\n",
        "    self.a = Brand\n",
        "    self.b = colour"
      ],
      "metadata": {
        "id": "MpFCpyagz9e8"
      },
      "execution_count": 21,
      "outputs": []
    },
    {
      "cell_type": "code",
      "source": [
        "car1 = car(ferari, red)\n",
        "car2 = car(BMW, black)"
      ],
      "metadata": {
        "colab": {
          "base_uri": "https://localhost:8080/",
          "height": 158
        },
        "id": "Xn-EuLnA1-8y",
        "outputId": "dcfa2f95-8088-4999-de63-186906565d23"
      },
      "execution_count": 22,
      "outputs": [
        {
          "output_type": "error",
          "ename": "NameError",
          "evalue": "name 'ferari' is not defined",
          "traceback": [
            "\u001b[0;31m---------------------------------------------------------------------------\u001b[0m",
            "\u001b[0;31mNameError\u001b[0m                                 Traceback (most recent call last)",
            "\u001b[0;32m<ipython-input-22-39c9e1b8e883>\u001b[0m in \u001b[0;36m<cell line: 0>\u001b[0;34m()\u001b[0m\n\u001b[0;32m----> 1\u001b[0;31m \u001b[0mcar1\u001b[0m \u001b[0;34m=\u001b[0m \u001b[0mcar\u001b[0m\u001b[0;34m(\u001b[0m\u001b[0mferari\u001b[0m\u001b[0;34m,\u001b[0m \u001b[0mred\u001b[0m\u001b[0;34m)\u001b[0m\u001b[0;34m\u001b[0m\u001b[0;34m\u001b[0m\u001b[0m\n\u001b[0m\u001b[1;32m      2\u001b[0m \u001b[0mcar2\u001b[0m \u001b[0;34m=\u001b[0m \u001b[0mcar\u001b[0m\u001b[0;34m(\u001b[0m\u001b[0mBMW\u001b[0m\u001b[0;34m,\u001b[0m \u001b[0mblack\u001b[0m\u001b[0;34m)\u001b[0m\u001b[0;34m\u001b[0m\u001b[0;34m\u001b[0m\u001b[0m\n",
            "\u001b[0;31mNameError\u001b[0m: name 'ferari' is not defined"
          ]
        }
      ]
    },
    {
      "cell_type": "code",
      "source": [
        "class thing:\n",
        "  def __init__(self, color, company):\n",
        "    self.color = color\n",
        "    self.company = company\n",
        "\n",
        "  def drive(self):   #a method\n",
        "    print(f\"the {self.color}, {self.company} is driving\")"
      ],
      "metadata": {
        "id": "2sTwpZHm2ooI"
      },
      "execution_count": 13,
      "outputs": []
    },
    {
      "cell_type": "code",
      "source": [
        "car1 = car(black, tesla)\n",
        "car1.drive()"
      ],
      "metadata": {
        "colab": {
          "base_uri": "https://localhost:8080/",
          "height": 158
        },
        "id": "UMCJMeq738wL",
        "outputId": "7cbf81e1-855a-4075-d7c0-8d7f2f866608"
      },
      "execution_count": 14,
      "outputs": [
        {
          "output_type": "error",
          "ename": "NameError",
          "evalue": "name 'black' is not defined",
          "traceback": [
            "\u001b[0;31m---------------------------------------------------------------------------\u001b[0m",
            "\u001b[0;31mNameError\u001b[0m                                 Traceback (most recent call last)",
            "\u001b[0;32m<ipython-input-14-9c90c15b6042>\u001b[0m in \u001b[0;36m<cell line: 0>\u001b[0;34m()\u001b[0m\n\u001b[0;32m----> 1\u001b[0;31m \u001b[0mcar1\u001b[0m \u001b[0;34m=\u001b[0m \u001b[0mcar\u001b[0m\u001b[0;34m(\u001b[0m\u001b[0mblack\u001b[0m\u001b[0;34m,\u001b[0m \u001b[0mtesla\u001b[0m\u001b[0;34m)\u001b[0m\u001b[0;34m\u001b[0m\u001b[0;34m\u001b[0m\u001b[0m\n\u001b[0m\u001b[1;32m      2\u001b[0m \u001b[0mcar1\u001b[0m\u001b[0;34m.\u001b[0m\u001b[0mdrive\u001b[0m\u001b[0;34m(\u001b[0m\u001b[0;34m)\u001b[0m\u001b[0;34m\u001b[0m\u001b[0;34m\u001b[0m\u001b[0m\n",
            "\u001b[0;31mNameError\u001b[0m: name 'black' is not defined"
          ]
        }
      ]
    }
  ]
}