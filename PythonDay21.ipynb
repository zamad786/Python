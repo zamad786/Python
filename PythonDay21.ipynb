{
  "nbformat": 4,
  "nbformat_minor": 0,
  "metadata": {
    "colab": {
      "provenance": [],
      "authorship_tag": "ABX9TyM1FV+WMGsEEVs5gP/OxHys",
      "include_colab_link": true
    },
    "kernelspec": {
      "name": "python3",
      "display_name": "Python 3"
    },
    "language_info": {
      "name": "python"
    }
  },
  "cells": [
    {
      "cell_type": "markdown",
      "metadata": {
        "id": "view-in-github",
        "colab_type": "text"
      },
      "source": [
        "<a href=\"https://colab.research.google.com/github/zamad786/Python/blob/main/PythonDay21.ipynb\" target=\"_parent\"><img src=\"https://colab.research.google.com/assets/colab-badge.svg\" alt=\"Open In Colab\"/></a>"
      ]
    },
    {
      "cell_type": "code",
      "execution_count": 6,
      "metadata": {
        "colab": {
          "base_uri": "https://localhost:8080/"
        },
        "id": "QH-xIbEfmY3J",
        "outputId": "70c1c857-adf1-4316-e015-dac759082383"
      },
      "outputs": [
        {
          "output_type": "stream",
          "name": "stdout",
          "text": [
            "This person name is Zamad and age is 26\n"
          ]
        }
      ],
      "source": [
        "class person:\n",
        "  def __init__(self, age, name):\n",
        "    self.age = age\n",
        "    self.name = name\n",
        "  def information(self):\n",
        "    print(\"This person name is\",self.name, \"and age is\",self.age)\n",
        "a = person(26, \"Zamad\")\n",
        "a.information()\n",
        "\n",
        "\n",
        "#self refers instance methods"
      ]
    },
    {
      "cell_type": "code",
      "source": [
        "class name:\n",
        "#  school_name = \"Army Public School\"\n",
        "  school_name = input(\"Enter your school name: \")\n",
        "  @classmethod\n",
        "  def get_school_name(cls):\n",
        "    print(\"My school name is :\",cls.school_name)\n",
        "\n",
        "name.get_school_name()\n",
        "#cls refers class methods"
      ],
      "metadata": {
        "colab": {
          "base_uri": "https://localhost:8080/"
        },
        "id": "s3tLIyUFpcPG",
        "outputId": "dab125fa-5572-4be5-cf06-7e6b891f320c"
      },
      "execution_count": 27,
      "outputs": [
        {
          "output_type": "stream",
          "name": "stdout",
          "text": [
            "Enter your school name: hi\n",
            "My school name is : hi\n"
          ]
        }
      ]
    },
    {
      "cell_type": "code",
      "source": [
        "#static Method\n",
        "class Math:\n",
        "  @staticmethod\n",
        "  def add(x, y):\n",
        "    return x + y\n",
        "print(Math.add(3, 5))"
      ],
      "metadata": {
        "colab": {
          "base_uri": "https://localhost:8080/"
        },
        "id": "Scfvfs1D0UFt",
        "outputId": "0173e7f6-878c-4fe9-dcac-8acd5e81d16f"
      },
      "execution_count": 16,
      "outputs": [
        {
          "output_type": "stream",
          "name": "stdout",
          "text": [
            "8\n"
          ]
        }
      ]
    },
    {
      "cell_type": "code",
      "source": [
        "@classmethod\n",
        "def get_school_name(cls):\n",
        "  print(cls.school_name)\n",
        "  print(cls.get_school_name)"
      ],
      "metadata": {
        "id": "v56OMsGV2Vka"
      },
      "execution_count": 29,
      "outputs": []
    },
    {
      "cell_type": "code",
      "source": [
        "class Example:\n",
        "  shoolName = \"ABC\"\n",
        "  def __init__(self, student_name):\n",
        "    self.student_name = student_name   #instance attribute\n",
        "  #instance method\n",
        "  def show_name(self):\n",
        "    print(f\"My name is {self.student_name}\")\n",
        "\n",
        "  #class method\n",
        "  @classmethod\n",
        "  def get_school(cls):\n",
        "    print(f\"School name is {cls.school_name}\")\n",
        "\n",
        "\n",
        "  #static method\n",
        "  @staticmethod\n",
        "  def add(x,y):\n",
        "    return x + y"
      ],
      "metadata": {
        "id": "c4GUKltA3f1J"
      },
      "execution_count": 31,
      "outputs": []
    },
    {
      "cell_type": "code",
      "source": [
        "#create an object\n",
        "student = Example(\"Ali\")\n",
        "\n",
        "#instance method(uses object\n",
        "student.show_name()  #output my name is Ali\n",
        "\n",
        "#class Method(can use class or object)\n",
        "Example.get_school()\n",
        "student.get_school()\n",
        "\n",
        "\n",
        "#static method (use class or object)\n",
        "print(Example.add(5,6))\n",
        "print(student.add(5,4))"
      ],
      "metadata": {
        "colab": {
          "base_uri": "https://localhost:8080/",
          "height": 349
        },
        "id": "t1cykRTE45wF",
        "outputId": "d18ce4b8-3e2d-49af-ea0c-48943a5998bd"
      },
      "execution_count": 34,
      "outputs": [
        {
          "output_type": "stream",
          "name": "stdout",
          "text": [
            "My name is Ali\n"
          ]
        },
        {
          "output_type": "error",
          "ename": "AttributeError",
          "evalue": "type object 'Example' has no attribute 'school_name'",
          "traceback": [
            "\u001b[0;31m---------------------------------------------------------------------------\u001b[0m",
            "\u001b[0;31mAttributeError\u001b[0m                            Traceback (most recent call last)",
            "\u001b[0;32m<ipython-input-34-0ab536eaf105>\u001b[0m in \u001b[0;36m<cell line: 0>\u001b[0;34m()\u001b[0m\n\u001b[1;32m      6\u001b[0m \u001b[0;34m\u001b[0m\u001b[0m\n\u001b[1;32m      7\u001b[0m \u001b[0;31m#class Method(can use class or object)\u001b[0m\u001b[0;34m\u001b[0m\u001b[0;34m\u001b[0m\u001b[0m\n\u001b[0;32m----> 8\u001b[0;31m \u001b[0mExample\u001b[0m\u001b[0;34m.\u001b[0m\u001b[0mget_school\u001b[0m\u001b[0;34m(\u001b[0m\u001b[0;34m)\u001b[0m\u001b[0;34m\u001b[0m\u001b[0;34m\u001b[0m\u001b[0m\n\u001b[0m\u001b[1;32m      9\u001b[0m \u001b[0mstudent\u001b[0m\u001b[0;34m.\u001b[0m\u001b[0mget_school\u001b[0m\u001b[0;34m(\u001b[0m\u001b[0;34m)\u001b[0m\u001b[0;34m\u001b[0m\u001b[0;34m\u001b[0m\u001b[0m\n\u001b[1;32m     10\u001b[0m \u001b[0;34m\u001b[0m\u001b[0m\n",
            "\u001b[0;32m<ipython-input-31-39f4d1f2fbaf>\u001b[0m in \u001b[0;36mget_school\u001b[0;34m(cls)\u001b[0m\n\u001b[1;32m     10\u001b[0m   \u001b[0;34m@\u001b[0m\u001b[0mclassmethod\u001b[0m\u001b[0;34m\u001b[0m\u001b[0;34m\u001b[0m\u001b[0m\n\u001b[1;32m     11\u001b[0m   \u001b[0;32mdef\u001b[0m \u001b[0mget_school\u001b[0m\u001b[0;34m(\u001b[0m\u001b[0mcls\u001b[0m\u001b[0;34m)\u001b[0m\u001b[0;34m:\u001b[0m\u001b[0;34m\u001b[0m\u001b[0;34m\u001b[0m\u001b[0m\n\u001b[0;32m---> 12\u001b[0;31m     \u001b[0mprint\u001b[0m\u001b[0;34m(\u001b[0m\u001b[0;34mf\"School name is {cls.school_name}\"\u001b[0m\u001b[0;34m)\u001b[0m\u001b[0;34m\u001b[0m\u001b[0;34m\u001b[0m\u001b[0m\n\u001b[0m\u001b[1;32m     13\u001b[0m \u001b[0;34m\u001b[0m\u001b[0m\n\u001b[1;32m     14\u001b[0m \u001b[0;34m\u001b[0m\u001b[0m\n",
            "\u001b[0;31mAttributeError\u001b[0m: type object 'Example' has no attribute 'school_name'"
          ]
        }
      ]
    }
  ]
}