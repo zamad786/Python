{
  "nbformat": 4,
  "nbformat_minor": 0,
  "metadata": {
    "colab": {
      "provenance": [],
      "authorship_tag": "ABX9TyOG+ZUgMfaeYnXrB4d53RWe",
      "include_colab_link": true
    },
    "kernelspec": {
      "name": "python3",
      "display_name": "Python 3"
    },
    "language_info": {
      "name": "python"
    }
  },
  "cells": [
    {
      "cell_type": "markdown",
      "metadata": {
        "id": "view-in-github",
        "colab_type": "text"
      },
      "source": [
        "<a href=\"https://colab.research.google.com/github/zamad786/Python/blob/main/PythonDay22.ipynb\" target=\"_parent\"><img src=\"https://colab.research.google.com/assets/colab-badge.svg\" alt=\"Open In Colab\"/></a>"
      ]
    },
    {
      "cell_type": "code",
      "execution_count": 4,
      "metadata": {
        "id": "cTeh63-BtoOc"
      },
      "outputs": [],
      "source": [
        "class Example:\n",
        "  school_name = \"APS\"\n",
        "  def __init__(self, student_name):\n",
        "    self.student_name = student_name #instance attribute\n",
        "    #instance methods\n",
        "    def show_name(self):\n",
        "      print(f\"My name is {self.student_name}\")\n",
        "\n",
        "      #class method\n",
        "      @classmethod\n",
        "      def get_school(cls):\n",
        "        print(f\"School name is {cls.school_name}\")\n",
        "\n",
        "      #static method\n",
        "      @staticmethod\n",
        "      def add(x,y):\n",
        "        return x+y"
      ]
    },
    {
      "cell_type": "code",
      "source": [
        "#create object\n",
        "student = Example(\"Ali\")\n",
        "\n",
        "#instance method\n",
        "student.show_name()\n",
        "\n",
        "#class method\n",
        "Example.get_school()\n",
        "student.get_school()\n",
        "\n",
        "#static method\n",
        "print(Example.add(2,4))\n",
        "print(student.add(6,5))"
      ],
      "metadata": {
        "colab": {
          "base_uri": "https://localhost:8080/",
          "height": 211
        },
        "id": "WmkvbJde7Uyh",
        "outputId": "108ba93f-3c64-4713-83bd-c3b483d92e7a"
      },
      "execution_count": 3,
      "outputs": [
        {
          "output_type": "error",
          "ename": "AttributeError",
          "evalue": "'Example' object has no attribute 'show_name'",
          "traceback": [
            "\u001b[0;31m---------------------------------------------------------------------------\u001b[0m",
            "\u001b[0;31mAttributeError\u001b[0m                            Traceback (most recent call last)",
            "\u001b[0;32m<ipython-input-3-7f6d6f032ebd>\u001b[0m in \u001b[0;36m<cell line: 0>\u001b[0;34m()\u001b[0m\n\u001b[1;32m      3\u001b[0m \u001b[0;34m\u001b[0m\u001b[0m\n\u001b[1;32m      4\u001b[0m \u001b[0;31m#instance method\u001b[0m\u001b[0;34m\u001b[0m\u001b[0;34m\u001b[0m\u001b[0m\n\u001b[0;32m----> 5\u001b[0;31m \u001b[0mstudent\u001b[0m\u001b[0;34m.\u001b[0m\u001b[0mshow_name\u001b[0m\u001b[0;34m(\u001b[0m\u001b[0;34m)\u001b[0m\u001b[0;34m\u001b[0m\u001b[0;34m\u001b[0m\u001b[0m\n\u001b[0m\u001b[1;32m      6\u001b[0m \u001b[0;34m\u001b[0m\u001b[0m\n\u001b[1;32m      7\u001b[0m \u001b[0;31m#class method\u001b[0m\u001b[0;34m\u001b[0m\u001b[0;34m\u001b[0m\u001b[0m\n",
            "\u001b[0;31mAttributeError\u001b[0m: 'Example' object has no attribute 'show_name'"
          ]
        }
      ]
    },
    {
      "cell_type": "code",
      "source": [
        "#instance variable example\n",
        "class student:\n",
        "  def __init__(self, name, age):\n",
        "    self.name = name #instance variable\n",
        "    self.age = age   #instance variable"
      ],
      "metadata": {
        "id": "mHPYzz8d85br"
      },
      "execution_count": 5,
      "outputs": []
    },
    {
      "cell_type": "code",
      "source": [
        "#class variables example\n",
        "class kid:\n",
        "  school_name = \"APS\"  #class variable\n",
        "\n",
        "  def __init__(self, name):\n",
        "    self.name = name #instance variable"
      ],
      "metadata": {
        "id": "4fSLlFLt-IxD"
      },
      "execution_count": null,
      "outputs": []
    },
    {
      "cell_type": "code",
      "source": [
        "#global variables\n",
        "\n",
        "x = 10 #global variable\n",
        "class myclass:\n",
        "  def show(self):\n",
        "    print(x)"
      ],
      "metadata": {
        "id": "KjNHf4wU-xWe"
      },
      "execution_count": 6,
      "outputs": []
    },
    {
      "cell_type": "code",
      "source": [
        "#local variables\n",
        "class urclass:\n",
        "  def show(self):\n",
        "    y = 5 #local variable\n",
        "    print(y)"
      ],
      "metadata": {
        "id": "EVerhbB3_ywz"
      },
      "execution_count": 7,
      "outputs": []
    },
    {
      "cell_type": "code",
      "source": [
        "#all scope example\n",
        "a = \"APS\"  #global variable\n",
        "\n",
        "class student:\n",
        "  b = \"APSACS\"  #class variable\n",
        "\n",
        "  def __init__(self, name):\n",
        "    self.name = name  #instance variable\n",
        "\n",
        "  def show_info(slef):\n",
        "    section = \"A\"   #local variable\n",
        "    print(self.name, student.b, section, a)"
      ],
      "metadata": {
        "id": "gG400ku1AVdX"
      },
      "execution_count": 8,
      "outputs": []
    },
    {
      "cell_type": "code",
      "source": [
        "#global variable\n",
        "a = \"APS\"\n",
        "\n",
        "#class definition\n",
        "class student:\n",
        "  b = \"APSACS\"   #class variable\n",
        "\n",
        "  def __init__(self, name):\n",
        "    self.name = name  #instance variable\n",
        "    def show_info(self):\n",
        "      section = \"A\" #local variable\n",
        "      print(\"name:\" , self.name)\n",
        "      print(\"school name:\", student.b)\n",
        "      print(\"section: \", section)\n",
        "      print(\"school code: \", a)\n",
        "      print(\"-------------------\")\n",
        "\n",
        "\n",
        "#creating objects (instances)\n",
        "student1 = student(\"Qureshi\")\n",
        "student2 = student(\"Juwad\")\n",
        "student3 = student(\"Zamad\")\n",
        "\n",
        "\n",
        "#calling the method\n",
        "student1.show_info()\n",
        "student2.show_info()\n",
        "student3.show_info()"
      ],
      "metadata": {
        "colab": {
          "base_uri": "https://localhost:8080/",
          "height": 211
        },
        "id": "7vRqsIt3BYc7",
        "outputId": "3791a705-651e-4172-91db-43a28b4715ed"
      },
      "execution_count": 9,
      "outputs": [
        {
          "output_type": "error",
          "ename": "AttributeError",
          "evalue": "'student' object has no attribute 'show_info'",
          "traceback": [
            "\u001b[0;31m---------------------------------------------------------------------------\u001b[0m",
            "\u001b[0;31mAttributeError\u001b[0m                            Traceback (most recent call last)",
            "\u001b[0;32m<ipython-input-9-dc26c20bcf3e>\u001b[0m in \u001b[0;36m<cell line: 0>\u001b[0;34m()\u001b[0m\n\u001b[1;32m     24\u001b[0m \u001b[0;34m\u001b[0m\u001b[0m\n\u001b[1;32m     25\u001b[0m \u001b[0;31m#calling the ,ethod\u001b[0m\u001b[0;34m\u001b[0m\u001b[0;34m\u001b[0m\u001b[0m\n\u001b[0;32m---> 26\u001b[0;31m \u001b[0mstudent1\u001b[0m\u001b[0;34m.\u001b[0m\u001b[0mshow_info\u001b[0m\u001b[0;34m(\u001b[0m\u001b[0;34m)\u001b[0m\u001b[0;34m\u001b[0m\u001b[0;34m\u001b[0m\u001b[0m\n\u001b[0m\u001b[1;32m     27\u001b[0m \u001b[0mstudent2\u001b[0m\u001b[0;34m.\u001b[0m\u001b[0mshow_info\u001b[0m\u001b[0;34m(\u001b[0m\u001b[0;34m)\u001b[0m\u001b[0;34m\u001b[0m\u001b[0;34m\u001b[0m\u001b[0m\n\u001b[1;32m     28\u001b[0m \u001b[0mstudent3\u001b[0m\u001b[0;34m.\u001b[0m\u001b[0mshow_info\u001b[0m\u001b[0;34m(\u001b[0m\u001b[0;34m)\u001b[0m\u001b[0;34m\u001b[0m\u001b[0;34m\u001b[0m\u001b[0m\n",
            "\u001b[0;31mAttributeError\u001b[0m: 'student' object has no attribute 'show_info'"
          ]
        }
      ]
    }
  ]
}