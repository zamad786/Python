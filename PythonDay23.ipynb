{
  "nbformat": 4,
  "nbformat_minor": 0,
  "metadata": {
    "colab": {
      "provenance": [],
      "authorship_tag": "ABX9TyMDgHWRMIqteoy99nFktQS3",
      "include_colab_link": true
    },
    "kernelspec": {
      "name": "python3",
      "display_name": "Python 3"
    },
    "language_info": {
      "name": "python"
    }
  },
  "cells": [
    {
      "cell_type": "markdown",
      "metadata": {
        "id": "view-in-github",
        "colab_type": "text"
      },
      "source": [
        "<a href=\"https://colab.research.google.com/github/zamad786/Python/blob/main/PythonDay23.ipynb\" target=\"_parent\"><img src=\"https://colab.research.google.com/assets/colab-badge.svg\" alt=\"Open In Colab\"/></a>"
      ]
    },
    {
      "cell_type": "code",
      "source": [
        "#types of inheritance\n",
        "#one child take data from one parent\n",
        "class parent:\n",
        "  def show(self):\n",
        "    print(\"Helo from parent\")\n",
        "\n",
        "class child(parent):\n",
        "  pass\n",
        "\n",
        "c = child()\n",
        "c.show()\n",
        "\n",
        "\n",
        "child.show(parent)\n",
        "\n",
        "\n",
        "#2 ways to get output"
      ],
      "metadata": {
        "colab": {
          "base_uri": "https://localhost:8080/"
        },
        "id": "iZSv9xyBQIxL",
        "outputId": "37738f73-de33-4407-dc17-3c90c545d411"
      },
      "execution_count": 4,
      "outputs": [
        {
          "output_type": "stream",
          "name": "stdout",
          "text": [
            "Helo from parent\n",
            "Helo from parent\n"
          ]
        }
      ]
    },
    {
      "cell_type": "code",
      "source": [
        "#multiple inheritance\n",
        "#1 child and 2 parents\n",
        "\n",
        "class father:\n",
        "  def work(self):\n",
        "    print(\"I am carpenter\")\n",
        "\n",
        "class mother:\n",
        "  def care(self):\n",
        "    print(\"I am house wife\")\n",
        "\n",
        "class child(father, mother):\n",
        "  pass\n",
        "\n",
        "c = child()\n",
        "c.work()\n",
        "c.care()"
      ],
      "metadata": {
        "colab": {
          "base_uri": "https://localhost:8080/"
        },
        "id": "2a7UtRKASit0",
        "outputId": "7f2ba0b2-2cc7-46b6-81df-4157092b9ea0"
      },
      "execution_count": 6,
      "outputs": [
        {
          "output_type": "stream",
          "name": "stdout",
          "text": [
            "I am carpenter\n",
            "I am house wife\n"
          ]
        }
      ]
    },
    {
      "cell_type": "code",
      "source": [
        "#multilevel inheritance\n",
        "\n",
        "class grandparent:\n",
        "  def old(self):\n",
        "    print(\"I am you grandparent\")\n",
        "\n",
        "class parent(grandparent):\n",
        "  def mid(self):\n",
        "    print(\"I am your parent\")\n",
        "\n",
        "class child(parent):\n",
        "  def young(self):\n",
        "    print(\"I am young\")\n",
        "\n",
        "\n",
        "c = child()\n",
        "c.old()\n",
        "c.mid()\n",
        "c.young()"
      ],
      "metadata": {
        "colab": {
          "base_uri": "https://localhost:8080/"
        },
        "id": "EaGCk1IGT_3G",
        "outputId": "32503d50-b041-4170-99a5-5b4f26e8de47"
      },
      "execution_count": 7,
      "outputs": [
        {
          "output_type": "stream",
          "name": "stdout",
          "text": [
            "I am you grandparent\n",
            "I am your parent\n",
            "I am young\n"
          ]
        }
      ]
    },
    {
      "cell_type": "code",
      "source": [
        "#hierarchical inheritance\n",
        "class animal:\n",
        "  def speak(self):\n",
        "    print(\"This animal speak\")\n",
        "  def sleep(self):\n",
        "    print(\"This animal sleeps too\")\n",
        "class dog(animal):\n",
        "  pass\n",
        "\n",
        "class cat(animal):\n",
        "  pass\n",
        "\n",
        "\n",
        "d = dog()\n",
        "c = cat()\n",
        "d.speak()\n",
        "c.sleep()"
      ],
      "metadata": {
        "colab": {
          "base_uri": "https://localhost:8080/"
        },
        "id": "f6fiVXeRVYAj",
        "outputId": "c5306f22-00ac-48d3-f292-62c7aeb31caa"
      },
      "execution_count": 11,
      "outputs": [
        {
          "output_type": "stream",
          "name": "stdout",
          "text": [
            "This animal speak\n",
            "This animal sleeps too\n"
          ]
        }
      ]
    },
    {
      "cell_type": "code",
      "source": [
        "#polymorphism\n",
        "\n",
        "\n",
        "class cat:\n",
        "  def sound(self):\n",
        "    print(\"Cat sound is Meow\")\n",
        "class dog:\n",
        "  def sound(self):\n",
        "    print(\"Dog sound is Bark\")\n",
        "\n",
        "#Lets apply polymorphism\n",
        "for animal in (dog(), cat()):\n",
        "  animal.sound()"
      ],
      "metadata": {
        "colab": {
          "base_uri": "https://localhost:8080/"
        },
        "id": "dReh9RssX46F",
        "outputId": "4fe6b572-03c8-4353-d824-2f146d373bcf"
      },
      "execution_count": 14,
      "outputs": [
        {
          "output_type": "stream",
          "name": "stdout",
          "text": [
            "Dog sound is Bark\n",
            "Cat sound is Meow\n"
          ]
        }
      ]
    },
    {
      "cell_type": "code",
      "source": [
        "#overloading operators\n",
        "class point:\n",
        "  def __init__(self, x,y):\n",
        "    self.a = x\n",
        "    self.b = y\n",
        "\n",
        "  def __add__(self, other):\n",
        "    return point(self.a + other.a, self.b + other.b)\n",
        "\n",
        "  def show(self):\n",
        "    print(f\"({self.a},{self.b})\")\n",
        "\n",
        "p1 = point(4,5)\n",
        "p2 = point(3,2)\n",
        "p3 = p1+p2\n",
        "p3.show()"
      ],
      "metadata": {
        "colab": {
          "base_uri": "https://localhost:8080/"
        },
        "id": "1lYJ6CN3YtwL",
        "outputId": "335d87d1-7ba3-4c8e-b7e2-04989495b807"
      },
      "execution_count": 15,
      "outputs": [
        {
          "output_type": "stream",
          "name": "stdout",
          "text": [
            "(7,7)\n"
          ]
        }
      ]
    },
    {
      "cell_type": "code",
      "source": [
        "#overriding\n",
        "class animals:\n",
        "  def speaks(self):\n",
        "    print(\"Animals speaks too\")\n",
        "\n",
        "class dog(animals):\n",
        "  def speaks(self):\n",
        "    print(\"Dog barks\")\n",
        "\n",
        "d = dog()\n",
        "d.speaks()"
      ],
      "metadata": {
        "colab": {
          "base_uri": "https://localhost:8080/"
        },
        "id": "JmTsWFlqbPlD",
        "outputId": "c09dc7a5-c9fa-471e-a4c5-9484cddaa14b"
      },
      "execution_count": 16,
      "outputs": [
        {
          "output_type": "stream",
          "name": "stdout",
          "text": [
            "Dog barks\n"
          ]
        }
      ]
    },
    {
      "cell_type": "code",
      "source": [
        "#method overloading but (Limted in python)\n",
        "class great:\n",
        "  def say_hello(self, a = None):\n",
        "    #a = input(\"Enter your name\")\n",
        "    if a:\n",
        "      print(\"Hello\", a)\n",
        "    else:\n",
        "      print(\"Hello dear\")\n",
        "g = great()\n",
        "g.say_hello()\n",
        "g.say_hello(\"Ali\")"
      ],
      "metadata": {
        "colab": {
          "base_uri": "https://localhost:8080/"
        },
        "id": "Jaj4Ny3mccbw",
        "outputId": "c2321b65-5458-43e4-8feb-1d0004e1204d"
      },
      "execution_count": 22,
      "outputs": [
        {
          "output_type": "stream",
          "name": "stdout",
          "text": [
            "Hello dear\n",
            "Hello Ali\n"
          ]
        }
      ]
    },
    {
      "cell_type": "code",
      "source": [
        "#overloading problems\n",
        "class greating:\n",
        "  def hello(self):\n",
        "    print(\"Hello dear\")\n",
        "  def hello(self, a):\n",
        "    print(\"Hi dear\")\n",
        "b = greating()\n",
        "b.hello(1)"
      ],
      "metadata": {
        "colab": {
          "base_uri": "https://localhost:8080/"
        },
        "id": "A1VVQV9bfMKF",
        "outputId": "87d66d10-1a85-4dc7-ef94-7411000f6390"
      },
      "execution_count": 25,
      "outputs": [
        {
          "output_type": "stream",
          "name": "stdout",
          "text": [
            "Hi dear\n"
          ]
        }
      ]
    },
    {
      "cell_type": "code",
      "source": [
        "#lets use *arguments\n",
        "\n",
        "class greatings:\n",
        "  def show(self, *arguments):\n",
        "    if len(arguments) == 0:\n",
        "      print(\"No arguments\")\n",
        "    elif len(arguments) == 1:\n",
        "      print(f\"only one argument: {arguments[0]}\")\n",
        "    else:\n",
        "      print(\"So many arguments\")\n",
        "g = greatings()\n",
        "g.show()\n",
        "g.show(2, 1)\n",
        "g.show(1)\n",
        "g.show(2, 3)"
      ],
      "metadata": {
        "colab": {
          "base_uri": "https://localhost:8080/"
        },
        "id": "7hkEPp2Of3em",
        "outputId": "ecc8983e-5287-4bb0-c8f2-b31f8694820a"
      },
      "execution_count": 34,
      "outputs": [
        {
          "output_type": "stream",
          "name": "stdout",
          "text": [
            "No arguments\n",
            "So many arguments\n",
            "only one argument: 1\n",
            "So many arguments\n"
          ]
        }
      ]
    }
  ]
}