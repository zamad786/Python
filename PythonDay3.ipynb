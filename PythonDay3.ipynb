{
  "nbformat": 4,
  "nbformat_minor": 0,
  "metadata": {
    "colab": {
      "provenance": [],
      "authorship_tag": "ABX9TyOUKf5pCqhX0zFm7/IbdN2V",
      "include_colab_link": true
    },
    "kernelspec": {
      "name": "python3",
      "display_name": "Python 3"
    },
    "language_info": {
      "name": "python"
    }
  },
  "cells": [
    {
      "cell_type": "markdown",
      "metadata": {
        "id": "view-in-github",
        "colab_type": "text"
      },
      "source": [
        "<a href=\"https://colab.research.google.com/github/zamad786/Python/blob/main/PythonDay3.ipynb\" target=\"_parent\"><img src=\"https://colab.research.google.com/assets/colab-badge.svg\" alt=\"Open In Colab\"/></a>"
      ]
    },
    {
      "cell_type": "code",
      "execution_count": null,
      "metadata": {
        "id": "mGe2LM-I8P3e",
        "colab": {
          "base_uri": "https://localhost:8080/"
        },
        "outputId": "a0b13663-ad4f-4756-c6b4-f02bf3859ee6"
      },
      "outputs": [
        {
          "output_type": "stream",
          "name": "stdout",
          "text": [
            "Enter your first name: Zamad\n",
            "Enter your last name: Qureshi\n",
            "Your Full name is Zamad Qureshi\n"
          ]
        }
      ],
      "source": [
        "#user input and Type converstion\n",
        "#we can convert the data type of one variable into another if allowed\n",
        "\n",
        "first_name = input(\"Enter your first name: \")\n",
        "last_name = input(\"Enter your last name: \")\n",
        "print(\"Your Full name is\", first_name, last_name)"
      ]
    },
    {
      "cell_type": "code",
      "source": [
        "#default values in python is consider as string ok\n",
        "x = input(\"Enter value of x: \")\n",
        "y = input(\"Enter value of y: \")\n",
        "print(\"Sum of X and Y:\", x+y)\n"
      ],
      "metadata": {
        "colab": {
          "base_uri": "https://localhost:8080/"
        },
        "id": "oztKNoDrcabN",
        "outputId": "0ade946b-83f4-4faa-f908-63d342c6db88"
      },
      "execution_count": null,
      "outputs": [
        {
          "output_type": "stream",
          "name": "stdout",
          "text": [
            "Enter value of x: 10\n",
            "Enter value of y: 20\n",
            "Sum of X and Y: 1020\n"
          ]
        }
      ]
    },
    {
      "cell_type": "code",
      "source": [
        "#lets convert string into int\n",
        "x = int(input(\"Enter value of x: \"))\n",
        "y = int(input(\"Enter value of y: \"))\n",
        "print(\"Sum of X and Y:\", x+y)\n",
        "\n",
        "a = \"50\"\n",
        "print(f\"the type of data before: {type(a)}\")\n",
        "a= int(a)\n",
        "print(f\"the type of data after: {type(a)}\")"
      ],
      "metadata": {
        "colab": {
          "base_uri": "https://localhost:8080/"
        },
        "id": "PBINgR68dByX",
        "outputId": "f4a090df-4538-4b07-bcdb-8b5dad089b0a"
      },
      "execution_count": null,
      "outputs": [
        {
          "output_type": "stream",
          "name": "stdout",
          "text": [
            "Enter value of x: 10\n",
            "Enter value of y: 20\n",
            "Sum of X and Y: 30\n",
            "the type of data before: <class 'str'>\n",
            "the type of data after: <class 'int'>\n"
          ]
        }
      ]
    },
    {
      "cell_type": "code",
      "source": [
        "#lets convert float into int\n",
        "\n",
        "b = 50.5\n",
        "print(f\"the data type of b before: {type(b)}\")\n",
        "b = int(b)\n",
        "print(f\"the data type of b after {type(b)}\")\n",
        "print(b)"
      ],
      "metadata": {
        "id": "zVbUfEWTfsew",
        "colab": {
          "base_uri": "https://localhost:8080/"
        },
        "outputId": "59deec4c-1483-403c-d70b-264995cea1fe"
      },
      "execution_count": 2,
      "outputs": [
        {
          "output_type": "stream",
          "name": "stdout",
          "text": [
            "the data type of b before: <class 'float'>\n",
            "the data type of b after <class 'int'>\n",
            "50\n"
          ]
        }
      ]
    },
    {
      "cell_type": "code",
      "source": [
        "#lets convert integer into boolean\n",
        "\n",
        "b = 50\n",
        "print(f\"the data type of b before: {type(b)}\")\n",
        "b = bool(b)\n",
        "print(f\"the data type of b after {type(b)}\")\n",
        "print(b)"
      ],
      "metadata": {
        "colab": {
          "base_uri": "https://localhost:8080/"
        },
        "id": "Od6F0FVXjeF9",
        "outputId": "72da122f-bbfc-4362-cee6-f84ad960fcd0"
      },
      "execution_count": 8,
      "outputs": [
        {
          "output_type": "stream",
          "name": "stdout",
          "text": [
            "the data type of b before: <class 'int'>\n",
            "the data type of b after <class 'bool'>\n",
            "True\n"
          ]
        }
      ]
    },
    {
      "cell_type": "code",
      "source": [
        "b = 0\n",
        "print(f\"the data type of b before: {type(b)}\")\n",
        "b = bool(b)\n",
        "print(f\"the data type of b after {type(b)}\")\n",
        "print(b)"
      ],
      "metadata": {
        "colab": {
          "base_uri": "https://localhost:8080/"
        },
        "id": "8PEATkDSlmi1",
        "outputId": "a15a62e6-dfb7-4886-ad2c-72eb9dfe4bc7"
      },
      "execution_count": 9,
      "outputs": [
        {
          "output_type": "stream",
          "name": "stdout",
          "text": [
            "the data type of b before: <class 'int'>\n",
            "the data type of b after <class 'bool'>\n",
            "False\n"
          ]
        }
      ]
    },
    {
      "cell_type": "code",
      "source": [
        "b = -5\n",
        "print(f\"the data type of b before: {type(b)}\")\n",
        "b = bool(b)\n",
        "print(f\"the data type of b after {type(b)}\")\n",
        "print(b)"
      ],
      "metadata": {
        "colab": {
          "base_uri": "https://localhost:8080/"
        },
        "id": "vWlUTxABl0eb",
        "outputId": "3b9f324f-5606-45b7-ceef-945fea9d85d9"
      },
      "execution_count": 10,
      "outputs": [
        {
          "output_type": "stream",
          "name": "stdout",
          "text": [
            "the data type of b before: <class 'int'>\n",
            "the data type of b after <class 'bool'>\n",
            "True\n"
          ]
        }
      ]
    },
    {
      "cell_type": "code",
      "source": [
        "#address of id\n",
        "a = 30\n",
        "b = 40\n",
        "c = 30\n",
        "print(id(a), id(b), id(c))"
      ],
      "metadata": {
        "colab": {
          "base_uri": "https://localhost:8080/"
        },
        "id": "-kG_bBvxmjWp",
        "outputId": "e44384a7-461f-47b2-fa9b-51736fae178d"
      },
      "execution_count": 11,
      "outputs": [
        {
          "output_type": "stream",
          "name": "stdout",
          "text": [
            "10751784 10752104 10751784\n"
          ]
        }
      ]
    },
    {
      "cell_type": "code",
      "source": [
        "#operators\n",
        "#arthemetic operators *, -, +, //, /\n",
        "a = 6\n",
        "b = 3\n",
        "c = a+b\n",
        "d = a-b\n",
        "e = a*b\n",
        "f = a/b\n",
        "g = a//b\n",
        "h = a%b\n",
        "print(c)\n",
        "print(d)\n",
        "print(e)\n",
        "print(f)\n",
        "print(g)\n",
        "print(h)\n",
        "#this is floor operator //\n",
        "#this is modulus operator %"
      ],
      "metadata": {
        "colab": {
          "base_uri": "https://localhost:8080/"
        },
        "id": "wIHfj9uGnIzu",
        "outputId": "909aa01b-2838-4d08-8132-892203b7d62b"
      },
      "execution_count": 14,
      "outputs": [
        {
          "output_type": "stream",
          "name": "stdout",
          "text": [
            "9\n",
            "3\n",
            "18\n",
            "2.0\n",
            "2\n",
            "0\n"
          ]
        }
      ]
    },
    {
      "cell_type": "code",
      "source": [
        "#relatoinal operator <=, >=, <, >, ==, !=\n",
        "a = 1\n",
        "b = 2\n",
        "c = a<=b\n",
        "d = a>=b\n",
        "e = a<b\n",
        "f = a>b\n",
        "g = a==b\n",
        "h = a!=b\n",
        "print(c)\n",
        "print(d)\n",
        "print(e)\n",
        "print(f)\n",
        "print(g)\n",
        "print(h)"
      ],
      "metadata": {
        "colab": {
          "base_uri": "https://localhost:8080/"
        },
        "id": "lW-U2oWSp_dY",
        "outputId": "332a2fc6-4c35-48a8-9780-7654e52bbf8b"
      },
      "execution_count": 15,
      "outputs": [
        {
          "output_type": "stream",
          "name": "stdout",
          "text": [
            "True\n",
            "False\n",
            "True\n",
            "False\n",
            "False\n",
            "True\n"
          ]
        }
      ]
    }
  ]
}