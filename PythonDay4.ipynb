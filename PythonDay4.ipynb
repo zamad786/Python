{
  "nbformat": 4,
  "nbformat_minor": 0,
  "metadata": {
    "colab": {
      "provenance": [],
      "authorship_tag": "ABX9TyMpoAc4oYN4gsRNHf5usy2z",
      "include_colab_link": true
    },
    "kernelspec": {
      "name": "python3",
      "display_name": "Python 3"
    },
    "language_info": {
      "name": "python"
    }
  },
  "cells": [
    {
      "cell_type": "markdown",
      "metadata": {
        "id": "view-in-github",
        "colab_type": "text"
      },
      "source": [
        "<a href=\"https://colab.research.google.com/github/zamad786/Python/blob/main/PythonDay4.ipynb\" target=\"_parent\"><img src=\"https://colab.research.google.com/assets/colab-badge.svg\" alt=\"Open In Colab\"/></a>"
      ]
    },
    {
      "cell_type": "code",
      "execution_count": null,
      "metadata": {
        "id": "Xbvl_dgG3LK3",
        "colab": {
          "base_uri": "https://localhost:8080/"
        },
        "outputId": "9cf9bff2-82bd-4bc3-988a-9820405c6009"
      },
      "outputs": [
        {
          "output_type": "stream",
          "name": "stdout",
          "text": [
            "tell about or  True True False\n",
            "tell about not True False True\n",
            "tell about and  False True False\n"
          ]
        }
      ],
      "source": [
        "#Logical operators and not or\n",
        "#in or if any point is true it shows true\n",
        "#in not it converts true to false\n",
        "#in and if both true then true\n",
        "a = 3>4 or 5>0\n",
        "b = 1>0 or 3>2\n",
        "c = 0>1 or 1>2\n",
        "d = not 3>4\n",
        "e = not 3>2\n",
        "f = not 1>2\n",
        "g = 3>4 and 5>0\n",
        "h = 1>0 and 3>2\n",
        "i = 0>1 and 1>2\n",
        "print(\"tell about or \", a, b, c)\n",
        "print(\"tell about not\", d, e, f)\n",
        "print(\"tell about and \", g, h, i)"
      ]
    },
    {
      "cell_type": "code",
      "source": [
        "#assignment operators\n",
        "x = 1\n",
        "x -= 4 #answer is -3\n",
        "x += 5 #answer is 2\n",
        "x **= 2 #answer is 4\n",
        "x /= 4 #answer is 1\n",
        "x %= 1\n",
        "print(x)\n",
        "\n",
        "a = 1\n",
        "a += 2\n",
        "print(a)\n",
        "\n",
        "b = 2\n",
        "b -= 3\n",
        "print(b)\n",
        "\n",
        "#and so on"
      ],
      "metadata": {
        "colab": {
          "base_uri": "https://localhost:8080/"
        },
        "id": "fsBg4g4Rh-H5",
        "outputId": "cc0cf787-c5a4-49d3-eee1-c3a10eaf0562"
      },
      "execution_count": null,
      "outputs": [
        {
          "output_type": "stream",
          "name": "stdout",
          "text": [
            "0.0\n",
            "3\n",
            "-1\n"
          ]
        }
      ]
    },
    {
      "cell_type": "code",
      "source": [
        "#identity operators \"is\", \"is not\"\n",
        "a = 5\n",
        "b = 5\n",
        "a is b"
      ],
      "metadata": {
        "colab": {
          "base_uri": "https://localhost:8080/"
        },
        "id": "pYKKC3NEkMQj",
        "outputId": "cfa3bf7c-86b5-4ef1-9950-1ee2b0ba39a6"
      },
      "execution_count": null,
      "outputs": [
        {
          "output_type": "execute_result",
          "data": {
            "text/plain": [
              "True"
            ]
          },
          "metadata": {},
          "execution_count": 25
        }
      ]
    },
    {
      "cell_type": "code",
      "source": [
        "a = 4\n",
        "c = 6\n",
        "a is not c"
      ],
      "metadata": {
        "colab": {
          "base_uri": "https://localhost:8080/"
        },
        "id": "WXlYcWTylM7n",
        "outputId": "72f6bf71-c600-4668-9285-2f9a4c8da7fb"
      },
      "execution_count": null,
      "outputs": [
        {
          "output_type": "execute_result",
          "data": {
            "text/plain": [
              "True"
            ]
          },
          "metadata": {},
          "execution_count": 26
        }
      ]
    },
    {
      "cell_type": "code",
      "source": [
        "#Membership operators (in, not in)\n",
        "x = 123\n",
        "1 in x"
      ],
      "metadata": {
        "colab": {
          "base_uri": "https://localhost:8080/",
          "height": 176
        },
        "id": "eo53vxektiKo",
        "outputId": "3a2e6df6-3dd3-49fd-825b-ac0e9e753f4b"
      },
      "execution_count": 27,
      "outputs": [
        {
          "output_type": "error",
          "ename": "TypeError",
          "evalue": "argument of type 'int' is not iterable",
          "traceback": [
            "\u001b[0;31m---------------------------------------------------------------------------\u001b[0m",
            "\u001b[0;31mTypeError\u001b[0m                                 Traceback (most recent call last)",
            "\u001b[0;32m<ipython-input-27-3f3bdd34cb1d>\u001b[0m in \u001b[0;36m<cell line: 0>\u001b[0;34m()\u001b[0m\n\u001b[1;32m      1\u001b[0m \u001b[0;31m#Membership operators (in, not in)\u001b[0m\u001b[0;34m\u001b[0m\u001b[0;34m\u001b[0m\u001b[0m\n\u001b[1;32m      2\u001b[0m \u001b[0mx\u001b[0m \u001b[0;34m=\u001b[0m \u001b[0;36m123\u001b[0m\u001b[0;34m\u001b[0m\u001b[0;34m\u001b[0m\u001b[0m\n\u001b[0;32m----> 3\u001b[0;31m \u001b[0;36m1\u001b[0m \u001b[0;32min\u001b[0m \u001b[0mx\u001b[0m\u001b[0;34m\u001b[0m\u001b[0;34m\u001b[0m\u001b[0m\n\u001b[0m",
            "\u001b[0;31mTypeError\u001b[0m: argument of type 'int' is not iterable"
          ]
        }
      ]
    },
    {
      "cell_type": "code",
      "source": [
        "x = \"Muhammad Zamad Qureshi\"\n",
        "\"Zamad\" in x\n",
        "a = \"123\"\n",
        "\"1\" in a"
      ],
      "metadata": {
        "colab": {
          "base_uri": "https://localhost:8080/"
        },
        "id": "F2qyuq3Rt11r",
        "outputId": "d2c0090d-098a-4536-9ab9-241f0a311b58"
      },
      "execution_count": 32,
      "outputs": [
        {
          "output_type": "execute_result",
          "data": {
            "text/plain": [
              "True"
            ]
          },
          "metadata": {},
          "execution_count": 32
        }
      ]
    },
    {
      "cell_type": "code",
      "source": [
        "x = \"Muhammad Zamad Qureshi\"\n",
        "\"Zamad\" not in x\n",
        "\"Ali\" in x"
      ],
      "metadata": {
        "colab": {
          "base_uri": "https://localhost:8080/"
        },
        "id": "XZm9FuKbul3g",
        "outputId": "b56e5ae1-7ab3-41c9-ef3b-eb549604186e"
      },
      "execution_count": 34,
      "outputs": [
        {
          "output_type": "execute_result",
          "data": {
            "text/plain": [
              "False"
            ]
          },
          "metadata": {},
          "execution_count": 34
        }
      ]
    },
    {
      "cell_type": "code",
      "source": [
        "#perform all operators\n",
        "a = int(input(\"Enter first value: \"))\n",
        "b = int(input(\"Enter second value: \"))\n",
        "op = input(\"Choose any operator (-, +, *, //)\")\n",
        "sub = a-b\n",
        "add = a+b\n",
        "mul = a*b\n",
        "div = a//b\n",
        "print( (op == \"-\") * sub +\n",
        "       (op == \"+\") * add +\n",
        "       (op == \"*\") * mul +\n",
        "       (op == \"//\") * div )"
      ],
      "metadata": {
        "colab": {
          "base_uri": "https://localhost:8080/"
        },
        "id": "JZsuJXdP46cZ",
        "outputId": "0371748b-6996-453c-f9a0-842a5a33888c"
      },
      "execution_count": 45,
      "outputs": [
        {
          "output_type": "stream",
          "name": "stdout",
          "text": [
            "Enter first value: 4\n",
            "Enter second value: 4\n",
            "Choose any operator (-, +, *, //)+\n",
            "8\n"
          ]
        }
      ]
    }
  ]
}