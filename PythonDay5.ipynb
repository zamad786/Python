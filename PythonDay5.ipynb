{
  "nbformat": 4,
  "nbformat_minor": 0,
  "metadata": {
    "colab": {
      "provenance": [],
      "authorship_tag": "ABX9TyOver1nMHgdm8+DRG32x9IW",
      "include_colab_link": true
    },
    "kernelspec": {
      "name": "python3",
      "display_name": "Python 3"
    },
    "language_info": {
      "name": "python"
    }
  },
  "cells": [
    {
      "cell_type": "markdown",
      "metadata": {
        "id": "view-in-github",
        "colab_type": "text"
      },
      "source": [
        "<a href=\"https://colab.research.google.com/github/zamad786/Python/blob/main/PythonDay5.ipynb\" target=\"_parent\"><img src=\"https://colab.research.google.com/assets/colab-badge.svg\" alt=\"Open In Colab\"/></a>"
      ]
    },
    {
      "cell_type": "code",
      "execution_count": 17,
      "metadata": {
        "colab": {
          "base_uri": "https://localhost:8080/"
        },
        "id": "NE8PKyuMBb1j",
        "outputId": "ee71b43c-57fc-47bf-ef3e-7095b54c707a"
      },
      "outputs": [
        {
          "output_type": "stream",
          "name": "stdout",
          "text": [
            "Enter light colour: blue\n",
            "lgta h ye pagal ho gia h\n"
          ]
        }
      ],
      "source": [
        "#lets use if, else\n",
        "\n",
        "light = input(\"Enter light colour: \")\n",
        "if light == \"red\":\n",
        "  print(\"ruko zra sbr kro!\")\n",
        "else:\n",
        "  if light == \"yellow\":\n",
        "    print(\"a gari start kr\")\n",
        "  else:\n",
        "    if light == \"orange\":\n",
        "      print(\"a gari start kr\")\n",
        "    else:\n",
        "      if light == \"green\":\n",
        "        print(\"chla ja bsdk\")\n",
        "      else:\n",
        "        print(\"lgta h ye pagal ho gia h\")"
      ]
    },
    {
      "cell_type": "code",
      "source": [
        "#lets use elif\n",
        "\n",
        "light = input(\"Enter light colour: \")\n",
        "if light == \"red\":\n",
        "  print(\"ruko zra sbr kro!\")\n",
        "elif light == \"yellow\":\n",
        "  print(\"a gari start kr\")\n",
        "elif light == \"orange\":\n",
        "  print(\"a gari start kr\")\n",
        "elif light == \"green\":\n",
        "  print(\"chla ja bsdk\")\n",
        "else:\n",
        "  print(\"lgta h ye pagal ho gia h\")"
      ],
      "metadata": {
        "colab": {
          "base_uri": "https://localhost:8080/"
        },
        "id": "z_-2d35NhPkG",
        "outputId": "aa2cae28-66e5-4e11-c555-e9fc555637d7"
      },
      "execution_count": 21,
      "outputs": [
        {
          "output_type": "stream",
          "name": "stdout",
          "text": [
            "Enter light colour: green\n",
            "chla ja bsdk\n"
          ]
        }
      ]
    },
    {
      "cell_type": "code",
      "source": [
        "#lets use shorthand if-else\n",
        "#only used in 1 condition ok\n",
        "\n",
        "light = input(\"Enter light colour: \")\n",
        "print(\"ruko zra sbr kro\") if light == \"red\" else (\"chla ja bsdk\")"
      ],
      "metadata": {
        "colab": {
          "base_uri": "https://localhost:8080/",
          "height": 52
        },
        "id": "zESyTIFykUqS",
        "outputId": "5415171c-753f-4c70-9a23-3faa4524b824"
      },
      "execution_count": 23,
      "outputs": [
        {
          "name": "stdout",
          "output_type": "stream",
          "text": [
            "Enter light colour: blue\n"
          ]
        },
        {
          "output_type": "execute_result",
          "data": {
            "text/plain": [
              "'chla ja bsdk'"
            ],
            "application/vnd.google.colaboratory.intrinsic+json": {
              "type": "string"
            }
          },
          "metadata": {},
          "execution_count": 23
        }
      ]
    },
    {
      "cell_type": "code",
      "source": [
        "#grading system by logical operators and if else\n",
        "#we gonna match numbers and attendance ok\n",
        "\n",
        "marks = int(input(\"Enter your marks %: \"))\n",
        "attendance = int(input(\"Enter you attendance %: \"))\n",
        "\n",
        "if marks >= 90 and attendance >= 70:\n",
        "  print(\"Congrajulations you got A+\")\n",
        "elif marks >= 85 and attendance >= 70:\n",
        "  print(\"Congrajulations you got A\")\n",
        "elif marks >= 75 and attendance >= 70:\n",
        "  print(\"Congrajulations you got B+\")\n",
        "elif marks >= 70 and attendance >= 70:\n",
        "  print(\"Congrajulations you got B\")\n",
        "elif marks >= 65 and attendance >= 70:\n",
        "  print(\"Congrajulations you got C\")\n",
        "elif marks >= 60 and attendance >= 70:\n",
        "  print(\"Congrajulations you got D\")\n",
        "else:\n",
        "  print(\"You fail\")"
      ],
      "metadata": {
        "colab": {
          "base_uri": "https://localhost:8080/"
        },
        "id": "zQUIk8HgnYaw",
        "outputId": "4a28191e-27d3-45f8-a0ec-8ae472352ab8"
      },
      "execution_count": 29,
      "outputs": [
        {
          "output_type": "stream",
          "name": "stdout",
          "text": [
            "Enter your marks %: 60\n",
            "Enter you attendance %: 60\n",
            "You fail\n"
          ]
        }
      ]
    }
  ]
}