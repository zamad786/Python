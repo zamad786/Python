{
  "nbformat": 4,
  "nbformat_minor": 0,
  "metadata": {
    "colab": {
      "provenance": [],
      "authorship_tag": "ABX9TyMnvNdDYB9SzYxlHGxpCmdW",
      "include_colab_link": true
    },
    "kernelspec": {
      "name": "python3",
      "display_name": "Python 3"
    },
    "language_info": {
      "name": "python"
    }
  },
  "cells": [
    {
      "cell_type": "markdown",
      "metadata": {
        "id": "view-in-github",
        "colab_type": "text"
      },
      "source": [
        "<a href=\"https://colab.research.google.com/github/zamad786/Python/blob/main/PythonDay6.ipynb\" target=\"_parent\"><img src=\"https://colab.research.google.com/assets/colab-badge.svg\" alt=\"Open In Colab\"/></a>"
      ]
    },
    {
      "cell_type": "code",
      "execution_count": 11,
      "metadata": {
        "colab": {
          "base_uri": "https://localhost:8080/"
        },
        "id": "PQnBoykzrVDa",
        "outputId": "395a60d4-607b-4582-ff82-52f2c2e0983c"
      },
      "outputs": [
        {
          "output_type": "stream",
          "name": "stdout",
          "text": [
            "0\n",
            "2\n",
            "4\n",
            "6\n",
            "8\n",
            "10\n"
          ]
        }
      ],
      "source": [
        "#today we learn about loops\n",
        "#lets find out how we use while loops\n",
        "a = 0\n",
        "while a <= 10:\n",
        "  print(a)\n",
        "  a+=2"
      ]
    },
    {
      "cell_type": "code",
      "source": [
        "#password system with loop\n",
        "\n",
        "correct_password = \"khul ja sim sim\"\n",
        "password = \"\"\n",
        "while password != correct_password:\n",
        "  password = input(\"Enter Password \")\n",
        "print(\"Acces granted\")"
      ],
      "metadata": {
        "colab": {
          "base_uri": "https://localhost:8080/"
        },
        "id": "Bc5jRun9wvZz",
        "outputId": "53fd5f21-a66b-4745-d7f8-d5f2e9aff17e"
      },
      "execution_count": 16,
      "outputs": [
        {
          "output_type": "stream",
          "name": "stdout",
          "text": [
            "Enter Password 212\n",
            "Enter Password khul ja sim sim\n",
            "Acces granted\n"
          ]
        }
      ]
    },
    {
      "cell_type": "code",
      "source": [
        "#dice rolling system\n",
        "\n",
        "import random\n",
        "dice = 0\n",
        "while dice != 6:\n",
        "  dice = random.randint(1, 6)\n",
        "  print(\"You rolled dice\", dice, \"times\")\n"
      ],
      "metadata": {
        "colab": {
          "base_uri": "https://localhost:8080/"
        },
        "id": "OQpDHt78Z-iZ",
        "outputId": "c5b714e4-3d58-417d-dec5-5dce03996638"
      },
      "execution_count": 22,
      "outputs": [
        {
          "output_type": "stream",
          "name": "stdout",
          "text": [
            "You rolled dice 2 times\n",
            "You rolled dice 1 times\n",
            "You rolled dice 3 times\n",
            "You rolled dice 1 times\n",
            "You rolled dice 4 times\n",
            "You rolled dice 1 times\n",
            "You rolled dice 2 times\n",
            "You rolled dice 3 times\n",
            "You rolled dice 5 times\n",
            "You rolled dice 6 times\n"
          ]
        }
      ]
    },
    {
      "cell_type": "code",
      "source": [
        "#lets try on token number\n",
        "\n",
        "import random\n",
        "token = 0\n",
        "while token != 5:\n",
        "  token = random.randint(1, 5)\n",
        "  print(\"This time you token number is\", token)"
      ],
      "metadata": {
        "colab": {
          "base_uri": "https://localhost:8080/"
        },
        "id": "FIV9FEVjbRoY",
        "outputId": "05bd46c9-e280-420c-9377-65c9074e230a"
      },
      "execution_count": 32,
      "outputs": [
        {
          "output_type": "stream",
          "name": "stdout",
          "text": [
            "This time you token number is 4\n",
            "This time you token number is 2\n",
            "This time you token number is 5\n"
          ]
        }
      ]
    }
  ]
}