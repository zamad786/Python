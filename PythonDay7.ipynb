{
  "nbformat": 4,
  "nbformat_minor": 0,
  "metadata": {
    "colab": {
      "provenance": [],
      "authorship_tag": "ABX9TyP9NKE4lilozPEkhLL3dttz",
      "include_colab_link": true
    },
    "kernelspec": {
      "name": "python3",
      "display_name": "Python 3"
    },
    "language_info": {
      "name": "python"
    }
  },
  "cells": [
    {
      "cell_type": "markdown",
      "metadata": {
        "id": "view-in-github",
        "colab_type": "text"
      },
      "source": [
        "<a href=\"https://colab.research.google.com/github/zamad786/Python/blob/main/PythonDay7.ipynb\" target=\"_parent\"><img src=\"https://colab.research.google.com/assets/colab-badge.svg\" alt=\"Open In Colab\"/></a>"
      ]
    },
    {
      "cell_type": "code",
      "source": [
        "password1 = \"zamad1\"\n",
        "user = \"\"\n",
        "count = 0\n",
        "while user != password1:\n",
        "  user = input(\"Enter the password \")\n",
        "  count = count + 1\n",
        "  print(\"Count\", count)\n",
        "  if count == 3:\n",
        "    print(\"access denied\")\n",
        "    break\n",
        "#print(\"Access granted\")"
      ],
      "metadata": {
        "colab": {
          "base_uri": "https://localhost:8080/"
        },
        "id": "dem92lUIZ895",
        "outputId": "f5b69f9b-1f0e-410f-cd19-7b6589573004"
      },
      "execution_count": 10,
      "outputs": [
        {
          "output_type": "stream",
          "name": "stdout",
          "text": [
            "Enter the password zamad1\n",
            "Count 1\n"
          ]
        }
      ]
    },
    {
      "cell_type": "code",
      "source": [
        "#for loop\n",
        "\n",
        "for i in range(6):\n",
        "  print(i)\n",
        "#indexing start from 0 by default until we not defined"
      ],
      "metadata": {
        "colab": {
          "base_uri": "https://localhost:8080/"
        },
        "id": "VywdQQlYaWXY",
        "outputId": "f6c1117f-527e-4426-9886-f8aa910e1182"
      },
      "execution_count": 12,
      "outputs": [
        {
          "output_type": "stream",
          "name": "stdout",
          "text": [
            "0\n",
            "1\n",
            "2\n",
            "3\n",
            "4\n",
            "5\n"
          ]
        }
      ]
    },
    {
      "cell_type": "code",
      "source": [
        "#range (starting_index, stoping_index, step)\n",
        "#lets print from 1 to 10\n",
        "for i in range(1, 11):\n",
        "  print(i)"
      ],
      "metadata": {
        "colab": {
          "base_uri": "https://localhost:8080/"
        },
        "id": "nMNcrf7BfC2v",
        "outputId": "f5450e12-1545-455a-c7f4-d9b2c2489e32"
      },
      "execution_count": 14,
      "outputs": [
        {
          "output_type": "stream",
          "name": "stdout",
          "text": [
            "1\n",
            "2\n",
            "3\n",
            "4\n",
            "5\n",
            "6\n",
            "7\n",
            "8\n",
            "9\n",
            "10\n"
          ]
        }
      ]
    },
    {
      "cell_type": "code",
      "source": [
        "#Lets print from 10 to 1\n",
        "for a in range(10, 0, -1):\n",
        "  print(a)"
      ],
      "metadata": {
        "colab": {
          "base_uri": "https://localhost:8080/"
        },
        "id": "jH33N0G_fdyi",
        "outputId": "e8428820-0f30-4fbc-993d-fbf2a169e9a4"
      },
      "execution_count": 16,
      "outputs": [
        {
          "output_type": "stream",
          "name": "stdout",
          "text": [
            "10\n",
            "9\n",
            "8\n",
            "7\n",
            "6\n",
            "5\n",
            "4\n",
            "3\n",
            "2\n",
            "1\n"
          ]
        }
      ]
    },
    {
      "cell_type": "code",
      "source": [
        "#lets print even number in between 0 to 10\n",
        "for a in range(0, 11, 2):\n",
        "  print(a)"
      ],
      "metadata": {
        "colab": {
          "base_uri": "https://localhost:8080/"
        },
        "id": "J-0O0VL6fwDm",
        "outputId": "5462277c-a6d6-4b1c-cc69-be29b659bfe4"
      },
      "execution_count": 19,
      "outputs": [
        {
          "output_type": "stream",
          "name": "stdout",
          "text": [
            "0\n",
            "2\n",
            "4\n",
            "6\n",
            "8\n",
            "10\n"
          ]
        }
      ]
    },
    {
      "cell_type": "code",
      "source": [
        "#lets print odd number in between 0 to 10\n",
        "for a in range(1, 11, 2):\n",
        "  print(a)"
      ],
      "metadata": {
        "colab": {
          "base_uri": "https://localhost:8080/"
        },
        "id": "i257XYIygpwI",
        "outputId": "a47adb7e-a62f-47d7-cdd2-0b7bfb57fe68"
      },
      "execution_count": 20,
      "outputs": [
        {
          "output_type": "stream",
          "name": "stdout",
          "text": [
            "1\n",
            "3\n",
            "5\n",
            "7\n",
            "9\n"
          ]
        }
      ]
    },
    {
      "cell_type": "code",
      "source": [
        "#Lets know about break continue pass\n",
        "#run 1 by 1\n",
        "#for i in range(10):\n",
        "#  if i == 6:\n",
        "#    break\n",
        "#  print(i)\n",
        "\n",
        "\n",
        "#for i in range(10):\n",
        "#  if i == 6:\n",
        "#    continue\n",
        "#  print(i)\n",
        "\n",
        "for i in range(10):\n",
        "  if i == 6:\n",
        "    pass\n",
        "  print(i)"
      ],
      "metadata": {
        "colab": {
          "base_uri": "https://localhost:8080/"
        },
        "id": "O4cuWj4GgvV6",
        "outputId": "c959db4f-a5f6-4762-8af0-d5b8cea5e53b"
      },
      "execution_count": 25,
      "outputs": [
        {
          "output_type": "stream",
          "name": "stdout",
          "text": [
            "0\n",
            "1\n",
            "2\n",
            "3\n",
            "4\n",
            "5\n",
            "6\n",
            "7\n",
            "8\n",
            "9\n"
          ]
        }
      ]
    },
    {
      "cell_type": "code",
      "source": [
        "#loop on string\n",
        "name = \"zamad\"\n",
        "for a in name:\n",
        "  print(a)"
      ],
      "metadata": {
        "colab": {
          "base_uri": "https://localhost:8080/"
        },
        "id": "NycLGWNDohB8",
        "outputId": "d31120be-64e8-477e-f570-391c10eae449"
      },
      "execution_count": 28,
      "outputs": [
        {
          "output_type": "stream",
          "name": "stdout",
          "text": [
            "z\n",
            "a\n",
            "m\n",
            "a\n",
            "d\n"
          ]
        }
      ]
    },
    {
      "cell_type": "code",
      "source": [
        "#loop on list\n",
        "names = [\"Zamad\", \"Ali\", \"Jawad\"]\n",
        "for a in names:\n",
        "  print(a)"
      ],
      "metadata": {
        "colab": {
          "base_uri": "https://localhost:8080/"
        },
        "id": "G6yykJzspMzi",
        "outputId": "1d2808f3-cba0-4c8d-9353-bf7a85b6cb8a"
      },
      "execution_count": 29,
      "outputs": [
        {
          "output_type": "stream",
          "name": "stdout",
          "text": [
            "Zamad\n",
            "Ali\n",
            "Jawad\n"
          ]
        }
      ]
    },
    {
      "cell_type": "code",
      "source": [
        "#apply break, coninue and pass on list\n",
        "names = [\"Zamad\", \"Ali\", \"Jawad\", \"Hamad\", \"Khushi\", ]\n",
        "for a in names:\n",
        "  if a == \"Hamad\":\n",
        "    #break\n",
        "    #continue\n",
        "    pass\n",
        "  print(a)"
      ],
      "metadata": {
        "colab": {
          "base_uri": "https://localhost:8080/"
        },
        "id": "kmtCPPcRpe7f",
        "outputId": "ead6bfa5-eb11-4765-a52d-a53b2126e12e"
      },
      "execution_count": 40,
      "outputs": [
        {
          "output_type": "stream",
          "name": "stdout",
          "text": [
            "Zamad\n",
            "Ali\n",
            "Jawad\n",
            "Hamad\n",
            "Khushi\n"
          ]
        }
      ]
    },
    {
      "cell_type": "code",
      "source": [
        "alpha = \"ababababab\"\n",
        "count_a = 0\n",
        "for a in alpha:\n",
        "  if a == \"b\":\n",
        "    count_a = count_a + 1\n",
        "print(count_a)"
      ],
      "metadata": {
        "colab": {
          "base_uri": "https://localhost:8080/"
        },
        "id": "EzcU0lzWrAu9",
        "outputId": "f3fc16f6-1807-4223-82d0-990e1ed966d8"
      },
      "execution_count": 47,
      "outputs": [
        {
          "output_type": "stream",
          "name": "stdout",
          "text": [
            "5\n"
          ]
        }
      ]
    },
    {
      "cell_type": "code",
      "source": [
        "x = \"ababababab\"\n",
        "a = 0\n",
        "for i in x:\n",
        "  if i == \"a\":\n",
        "    a = a + 1\n",
        "print(a)"
      ],
      "metadata": {
        "colab": {
          "base_uri": "https://localhost:8080/"
        },
        "id": "fT_A-tJkuZzb",
        "outputId": "e272b558-3bb9-4a26-83f5-ad68f2355557"
      },
      "execution_count": 49,
      "outputs": [
        {
          "output_type": "stream",
          "name": "stdout",
          "text": [
            "5\n"
          ]
        }
      ]
    }
  ]
}