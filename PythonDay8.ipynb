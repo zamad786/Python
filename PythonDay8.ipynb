{
  "nbformat": 4,
  "nbformat_minor": 0,
  "metadata": {
    "colab": {
      "provenance": [],
      "authorship_tag": "ABX9TyOI2IfmsUgVQqL7KmjXllwU",
      "include_colab_link": true
    },
    "kernelspec": {
      "name": "python3",
      "display_name": "Python 3"
    },
    "language_info": {
      "name": "python"
    }
  },
  "cells": [
    {
      "cell_type": "markdown",
      "metadata": {
        "id": "view-in-github",
        "colab_type": "text"
      },
      "source": [
        "<a href=\"https://colab.research.google.com/github/zamad786/Python/blob/main/PythonDay8.ipynb\" target=\"_parent\"><img src=\"https://colab.research.google.com/assets/colab-badge.svg\" alt=\"Open In Colab\"/></a>"
      ]
    },
    {
      "cell_type": "code",
      "execution_count": null,
      "metadata": {
        "colab": {
          "base_uri": "https://localhost:8080/"
        },
        "id": "SKoROMty-gMz",
        "outputId": "7562e967-5d24-4f22-9879-57e0e24a2b7f"
      },
      "outputs": [
        {
          "output_type": "stream",
          "name": "stdout",
          "text": [
            "\n",
            "1. add\n",
            "2. substract\n",
            "3. multiply\n",
            "4. div\n",
            "5. Exit\n",
            "Choose an option: 3\n",
            "Enter first number: 2\n",
            "Enter second number: 3\n",
            "Result  {6.0}\n",
            "\n",
            "1. add\n",
            "2. substract\n",
            "3. multiply\n",
            "4. div\n",
            "5. Exit\n",
            "Choose an option: 5\n",
            "Stop calculator\n"
          ]
        }
      ],
      "source": [
        "#mini project of calculater by using while loop\n",
        "\n",
        "while True:\n",
        "  print(\"\\n1. add\\n2. substract\\n3. multiply\\n4. div\\n5. Exit\")\n",
        "  choice = input(\"Choose an option: \")\n",
        "  if choice == \"5\":\n",
        "    print(\"Stop calculator\")\n",
        "    break\n",
        "  a = float(input(\"Enter first number: \"))\n",
        "  b = float(input(\"Enter second number: \"))\n",
        "  if choice == \"1\":\n",
        "    print(f\"Result \", {a+b})\n",
        "  elif choice == \"2\":\n",
        "    print(f\"Result \", {a-b})\n",
        "  elif choice == \"3\":\n",
        "    print(f\"Result \", {a*b})\n",
        "  elif choice == \"4\":\n",
        "    print(f\"Result \", {a/b})\n",
        "  else:\n",
        "    print(\"invalid choice\")"
      ]
    },
    {
      "cell_type": "code",
      "source": [
        "#count even and odd number from 1 to 10\n",
        "even = 0\n",
        "odd = 0\n",
        "for i in range(10):\n",
        "  num = int(input(f\"Enter number {i+1}: \"))\n",
        "  if num %2 == 0:\n",
        "    even+=1\n",
        "  else:\n",
        "    odd+=1\n",
        "print(\"even number: \", format(even))\n",
        "print(\"Odd number: \", format(odd))"
      ],
      "metadata": {
        "id": "X5la3eecODbi",
        "colab": {
          "base_uri": "https://localhost:8080/"
        },
        "outputId": "a468b1cf-cbbb-4465-e3c6-1c8c6901e467"
      },
      "execution_count": 14,
      "outputs": [
        {
          "output_type": "stream",
          "name": "stdout",
          "text": [
            "Enter number 1: 10\n",
            "Enter number 2: 9\n",
            "Enter number 3: 8\n",
            "Enter number 4: 7\n",
            "Enter number 5: 6\n",
            "Enter number 6: 5\n",
            "Enter number 7: 4\n",
            "Enter number 8: 3\n",
            "Enter number 9: 2\n",
            "Enter number 10: 1\n",
            "even number:  5\n",
            "Odd number:  5\n"
          ]
        }
      ]
    }
  ]
}