{
  "nbformat": 4,
  "nbformat_minor": 0,
  "metadata": {
    "colab": {
      "provenance": [],
      "authorship_tag": "ABX9TyPS0RAateZfObHUPKLAzlJ9",
      "include_colab_link": true
    },
    "kernelspec": {
      "name": "python3",
      "display_name": "Python 3"
    },
    "language_info": {
      "name": "python"
    }
  },
  "cells": [
    {
      "cell_type": "markdown",
      "metadata": {
        "id": "view-in-github",
        "colab_type": "text"
      },
      "source": [
        "<a href=\"https://colab.research.google.com/github/zamad786/Python/blob/main/PythonDay9.ipynb\" target=\"_parent\"><img src=\"https://colab.research.google.com/assets/colab-badge.svg\" alt=\"Open In Colab\"/></a>"
      ]
    },
    {
      "cell_type": "code",
      "execution_count": 6,
      "metadata": {
        "id": "WeLApllPvH6w",
        "colab": {
          "base_uri": "https://localhost:8080/"
        },
        "outputId": "d2cf43c8-ea20-45bd-923d-ce6e1264f5f7"
      },
      "outputs": [
        {
          "output_type": "stream",
          "name": "stdout",
          "text": [
            "123 <class 'str'>\n"
          ]
        }
      ],
      "source": [
        "#strings\n",
        "s1 = \"Zamad\"\n",
        "print(s1)\n",
        "\n",
        "s2 = 'zamad'\n",
        "print(s2)\n",
        "\n",
        "s3 = \"\"\"Muhammad\n",
        "Zamad\n",
        "Qureshi\"\"\"\n",
        "print(s3)\n",
        "\n",
        "s4 = '''Muhammad\n",
        "Zamad\n",
        "Qureshi'''\n",
        "print(s4)\n",
        "\n",
        "s6 = str()\n",
        "print(s6, type(s6))\n",
        "\n",
        "s7 = str(123)\n",
        "print(s7, type(s7))\n"
      ]
    },
    {
      "cell_type": "code",
      "source": [
        "#indexing concept in str\n",
        "\n",
        "a1 = \"Zamad\"\n",
        "a1 [0], a1 [2], a1 [-1]\n"
      ],
      "metadata": {
        "colab": {
          "base_uri": "https://localhost:8080/"
        },
        "id": "EVSbBVWKL1Aj",
        "outputId": "b194ab79-9694-4d53-8b4e-bea9eeff3357"
      },
      "execution_count": 11,
      "outputs": [
        {
          "output_type": "execute_result",
          "data": {
            "text/plain": [
              "('Z', 'm', 'd')"
            ]
          },
          "metadata": {},
          "execution_count": 11
        }
      ]
    },
    {
      "cell_type": "code",
      "source": [
        "a = 'zamad'\n",
        "for i in a:\n",
        "  print(i, end= ' ')"
      ],
      "metadata": {
        "colab": {
          "base_uri": "https://localhost:8080/"
        },
        "id": "mgq9vdN1NPcx",
        "outputId": "a0ebae76-92d3-4316-d6e8-9f9fd8b791dd"
      },
      "execution_count": 16,
      "outputs": [
        {
          "output_type": "stream",
          "name": "stdout",
          "text": [
            "z a m a d "
          ]
        }
      ]
    }
  ]
}