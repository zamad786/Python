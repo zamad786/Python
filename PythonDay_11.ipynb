{
  "cells": [
    {
      "cell_type": "markdown",
      "metadata": {
        "id": "view-in-github",
        "colab_type": "text"
      },
      "source": [
        "<a href=\"https://colab.research.google.com/github/zamad786/Python/blob/main/PythonDay_11.ipynb\" target=\"_parent\"><img src=\"https://colab.research.google.com/assets/colab-badge.svg\" alt=\"Open In Colab\"/></a>"
      ]
    },
    {
      "cell_type": "code",
      "execution_count": null,
      "metadata": {
        "colab": {
          "base_uri": "https://localhost:8080/"
        },
        "id": "b-8QQczYMOXq",
        "outputId": "8cbcef1e-6aa9-4996-8b0a-ef9eca1cab4d"
      },
      "outputs": [
        {
          "data": {
            "text/plain": [
              "list"
            ]
          },
          "execution_count": 3,
          "metadata": {},
          "output_type": "execute_result"
        }
      ],
      "source": [
        "#List\n",
        "a = [1, 2, 3, 4]\n",
        "type(a)\n",
        "b = [1, \"abc\", 1.5, True, False]\n",
        "type(b)"
      ]
    },
    {
      "cell_type": "code",
      "execution_count": null,
      "metadata": {
        "colab": {
          "base_uri": "https://localhost:8080/"
        },
        "id": "ocTJcGhePI9e",
        "outputId": "02991e4d-444e-4052-c177-d1554329a2e3"
      },
      "outputs": [
        {
          "name": "stdout",
          "output_type": "stream",
          "text": [
            "2\n",
            "7\n"
          ]
        }
      ],
      "source": [
        "a = [4, 5, 3, 2, 6, 7]\n",
        "print(a[3])\n",
        "print(a[-1])"
      ]
    },
    {
      "cell_type": "code",
      "execution_count": null,
      "metadata": {
        "colab": {
          "base_uri": "https://localhost:8080/"
        },
        "id": "JLQ5L1qftxp9",
        "outputId": "501a9947-63d1-498c-bc5b-5eeda43262c7"
      },
      "outputs": [
        {
          "name": "stdout",
          "output_type": "stream",
          "text": [
            "4+5+3+2+6+7+"
          ]
        }
      ],
      "source": [
        "#list wit for loop\n",
        "a = [4, 5, 3, 2, 6, 7]\n",
        "for i in a:\n",
        "  print(i, end=\"+\")"
      ]
    },
    {
      "cell_type": "code",
      "execution_count": 12,
      "metadata": {
        "colab": {
          "base_uri": "https://localhost:8080/"
        },
        "id": "o1_UAYr8uiu2",
        "outputId": "83c127ff-8dec-459d-ec7d-4c31640326b8"
      },
      "outputs": [
        {
          "output_type": "stream",
          "name": "stdout",
          "text": [
            "4-5-3-2-6-7-"
          ]
        }
      ],
      "source": [
        "#list using while loop\n",
        "a = [4, 5, 3, 2, 6, 7]\n",
        "i = 0\n",
        "while i<=5:\n",
        "  print(a[i], end=\"-\" )\n",
        "  i+=1"
      ]
    },
    {
      "cell_type": "code",
      "source": [
        "#delete element from list\n",
        "a = [4, 5, 3, 2, 6, 7]\n",
        "del a[4]\n",
        "print(a)"
      ],
      "metadata": {
        "colab": {
          "base_uri": "https://localhost:8080/"
        },
        "id": "M-2cKSuEwl6g",
        "outputId": "bac662fe-da5e-401f-b61d-88a5f68d3e1e"
      },
      "execution_count": 15,
      "outputs": [
        {
          "output_type": "stream",
          "name": "stdout",
          "text": [
            "[4, 5, 3, 2, 7]\n"
          ]
        }
      ]
    },
    {
      "cell_type": "code",
      "source": [
        "#Edit list\n",
        "\n",
        "a = [4, 5, 3, 2, 6, 7]\n",
        "a[2] = 10\n",
        "print(a)\n",
        "a[4]\n",
        "#a[8] #it is out of range and error occur\n"
      ],
      "metadata": {
        "colab": {
          "base_uri": "https://localhost:8080/"
        },
        "id": "Mqq9PhQdw8WC",
        "outputId": "88e41c9e-f4bc-418a-e747-6ec3e4fa735b"
      },
      "execution_count": 20,
      "outputs": [
        {
          "output_type": "stream",
          "name": "stdout",
          "text": [
            "[4, 5, 10, 2, 6, 7]\n"
          ]
        },
        {
          "output_type": "execute_result",
          "data": {
            "text/plain": [
              "6"
            ]
          },
          "metadata": {},
          "execution_count": 20
        }
      ]
    },
    {
      "cell_type": "code",
      "source": [
        "#add element in list by using append and insert\n",
        "\n",
        "a = [4, 5, 3, 2, 6, 7]\n",
        "a.append(23)\n",
        "print(a)"
      ],
      "metadata": {
        "colab": {
          "base_uri": "https://localhost:8080/"
        },
        "id": "ylv96h4wyGaK",
        "outputId": "e1d6bbfc-a248-4d82-9e06-f71443656914"
      },
      "execution_count": 24,
      "outputs": [
        {
          "output_type": "stream",
          "name": "stdout",
          "text": [
            "[4, 5, 3, 2, 6, 7, 23]\n"
          ]
        }
      ]
    },
    {
      "cell_type": "code",
      "source": [
        "a = [4, 5, 3, 2, 6, 7]\n",
        "a.insert(4, 12)\n",
        "#a.insert(9, 12) it will be added in the end because it is bigger value\n",
        "print(a)"
      ],
      "metadata": {
        "colab": {
          "base_uri": "https://localhost:8080/"
        },
        "id": "PpAyBadyyl7N",
        "outputId": "0ff25c70-fc53-45a9-d0d8-b1d5f2b15dad"
      },
      "execution_count": 31,
      "outputs": [
        {
          "output_type": "stream",
          "name": "stdout",
          "text": [
            "[4, 5, 3, 2, 12, 6, 7]\n"
          ]
        }
      ]
    },
    {
      "cell_type": "code",
      "source": [
        "#Lets use packing and unpacking\n",
        "#unpacking\n",
        "a = [12, 23, 34 ,45]\n",
        "a,b,c,d = a\n",
        "print(\"Lets do unpacking: \", a, b, c, d)\n",
        "\n",
        "\n",
        "\n",
        "#packing\n",
        "e = 32\n",
        "f = 21\n",
        "g = 65\n",
        "h = [e,f,g]\n",
        "print(\"LEts do packing: \", h)"
      ],
      "metadata": {
        "colab": {
          "base_uri": "https://localhost:8080/"
        },
        "id": "lch1x4UIzJSc",
        "outputId": "8081e28f-6018-4949-8942-89a56a6375f4"
      },
      "execution_count": 41,
      "outputs": [
        {
          "output_type": "stream",
          "name": "stdout",
          "text": [
            "Lets do unpacking:  12 23 34 45\n",
            "LEts do packing:  [32, 21, 65]\n"
          ]
        }
      ]
    },
    {
      "cell_type": "code",
      "source": [
        "a = [b,c,d,c,b,c]\n",
        "b = 43\n",
        "c = 42\n",
        "d = 31\n",
        "#len(a)\n",
        "#min(a)\n",
        "#max(a)\n",
        "#sum(a)\n",
        "#lets perform same programs on hytrogenious funtctions\n",
        "e = [1, 2.5, True, \"ABC\"]\n",
        "len(e)\n",
        "#min(e) #not support between of 'str' and 'int'\n",
        "#max(e)  //            //\n",
        "#sum(e) #unsupported due to float and str\n",
        "#sorted(e) #not supported b/w str and bool"
      ],
      "metadata": {
        "colab": {
          "base_uri": "https://localhost:8080/"
        },
        "id": "eH2T18Uh0t34",
        "outputId": "3792c845-da5a-48ef-e060-54ed116076f0"
      },
      "execution_count": 53,
      "outputs": [
        {
          "output_type": "execute_result",
          "data": {
            "text/plain": [
              "4"
            ]
          },
          "metadata": {},
          "execution_count": 53
        }
      ]
    },
    {
      "cell_type": "code",
      "source": [
        "#lets do sorted in list\n",
        "a = [8,3,4,7,5,6]\n",
        "sorted(a)"
      ],
      "metadata": {
        "colab": {
          "base_uri": "https://localhost:8080/"
        },
        "id": "a_7y_bbs3dNH",
        "outputId": "9830ffae-08b5-47b1-caa3-0ee14bcb0f5a"
      },
      "execution_count": 56,
      "outputs": [
        {
          "output_type": "execute_result",
          "data": {
            "text/plain": [
              "[3, 4, 5, 6, 7, 8]"
            ]
          },
          "metadata": {},
          "execution_count": 56
        }
      ]
    },
    {
      "cell_type": "code",
      "source": [
        "c = list( )\n",
        "type(c)\n",
        "c = list(10)"
      ],
      "metadata": {
        "colab": {
          "base_uri": "https://localhost:8080/",
          "height": 176
        },
        "id": "k-ahPoc14NGj",
        "outputId": "343f2ffe-3064-4c36-8361-4bd15ba5edf3"
      },
      "execution_count": 66,
      "outputs": [
        {
          "output_type": "error",
          "ename": "TypeError",
          "evalue": "'int' object is not iterable",
          "traceback": [
            "\u001b[0;31m---------------------------------------------------------------------------\u001b[0m",
            "\u001b[0;31mTypeError\u001b[0m                                 Traceback (most recent call last)",
            "\u001b[0;32m<ipython-input-66-ee0d8e58400c>\u001b[0m in \u001b[0;36m<cell line: 0>\u001b[0;34m()\u001b[0m\n\u001b[1;32m      1\u001b[0m \u001b[0mc\u001b[0m \u001b[0;34m=\u001b[0m \u001b[0mlist\u001b[0m\u001b[0;34m(\u001b[0m \u001b[0;34m)\u001b[0m\u001b[0;34m\u001b[0m\u001b[0;34m\u001b[0m\u001b[0m\n\u001b[1;32m      2\u001b[0m \u001b[0mtype\u001b[0m\u001b[0;34m(\u001b[0m\u001b[0mc\u001b[0m\u001b[0;34m)\u001b[0m\u001b[0;34m\u001b[0m\u001b[0;34m\u001b[0m\u001b[0m\n\u001b[0;32m----> 3\u001b[0;31m \u001b[0mc\u001b[0m \u001b[0;34m=\u001b[0m \u001b[0mlist\u001b[0m\u001b[0;34m(\u001b[0m\u001b[0;36m10\u001b[0m\u001b[0;34m)\u001b[0m\u001b[0;34m\u001b[0m\u001b[0;34m\u001b[0m\u001b[0m\n\u001b[0m",
            "\u001b[0;31mTypeError\u001b[0m: 'int' object is not iterable"
          ]
        }
      ]
    },
    {
      "cell_type": "code",
      "source": [
        "b = list((12, 23, 34))\n",
        "print(b)\n",
        "\n",
        "c  = list(\"zamad\")\n",
        "print(c)\n",
        "\n",
        "\n",
        "d = list(range(2, 9))\n",
        "print(d)"
      ],
      "metadata": {
        "colab": {
          "base_uri": "https://localhost:8080/"
        },
        "id": "DapitXIi6LyO",
        "outputId": "fe728d15-ced0-498e-ae01-1a6ff4407afd"
      },
      "execution_count": 75,
      "outputs": [
        {
          "output_type": "stream",
          "name": "stdout",
          "text": [
            "[12, 23, 34]\n",
            "['z', 'a', 'm', 'a', 'd']\n",
            "[2, 3, 4, 5, 6, 7, 8]\n"
          ]
        }
      ]
    },
    {
      "cell_type": "code",
      "source": [
        "#comparision operators\n",
        "d = [1, 2, 3, 4, 5]\n",
        "e = [5, 4, 3, 2, 1]\n",
        "f = [1, 2, 3, 4, 5]\n",
        "d<e\n",
        "d>e\n",
        "d==f"
      ],
      "metadata": {
        "colab": {
          "base_uri": "https://localhost:8080/"
        },
        "id": "wwbwCleQ7xOx",
        "outputId": "a34833af-5b00-4bc9-abfa-db84548065e9"
      },
      "execution_count": 84,
      "outputs": [
        {
          "output_type": "execute_result",
          "data": {
            "text/plain": [
              "True"
            ]
          },
          "metadata": {},
          "execution_count": 84
        }
      ]
    },
    {
      "cell_type": "code",
      "source": [
        "#concatination operators\n",
        "d = [1, 2, 3, 4, 5]\n",
        "e = [5, 4, 3, 2, 1]\n",
        "#d+e\n",
        "f = d+e\n",
        "print(f)"
      ],
      "metadata": {
        "colab": {
          "base_uri": "https://localhost:8080/"
        },
        "id": "1q0N9iFy8g8h",
        "outputId": "bf8f0f11-a432-42a1-dd01-5af71ff32f38"
      },
      "execution_count": 88,
      "outputs": [
        {
          "output_type": "stream",
          "name": "stdout",
          "text": [
            "[1, 2, 3, 4, 5, 5, 4, 3, 2, 1]\n"
          ]
        }
      ]
    },
    {
      "cell_type": "code",
      "source": [
        "#repetition operators\n",
        "t = (1 , 3)\n",
        "e = t*4\n",
        "print(e)\n",
        "t*2"
      ],
      "metadata": {
        "colab": {
          "base_uri": "https://localhost:8080/"
        },
        "id": "4Dh3QL0v9A0B",
        "outputId": "d87c9e7f-f9ab-4585-f7d3-f2c3f74970d4"
      },
      "execution_count": 92,
      "outputs": [
        {
          "output_type": "stream",
          "name": "stdout",
          "text": [
            "(1, 3, 1, 3, 1, 3, 1, 3)\n"
          ]
        },
        {
          "output_type": "execute_result",
          "data": {
            "text/plain": [
              "(1, 3, 1, 3)"
            ]
          },
          "metadata": {},
          "execution_count": 92
        }
      ]
    }
  ],
  "metadata": {
    "colab": {
      "provenance": [],
      "authorship_tag": "ABX9TyPKgXL1RdvvC7Xf/cmXwYqq",
      "include_colab_link": true
    },
    "kernelspec": {
      "display_name": "Python 3",
      "name": "python3"
    },
    "language_info": {
      "name": "python"
    }
  },
  "nbformat": 4,
  "nbformat_minor": 0
}