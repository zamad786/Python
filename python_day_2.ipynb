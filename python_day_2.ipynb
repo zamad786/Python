{
  "nbformat": 4,
  "nbformat_minor": 0,
  "metadata": {
    "colab": {
      "provenance": [],
      "authorship_tag": "ABX9TyMXc4J6cweFjFSTJeam9SeE"
    },
    "kernelspec": {
      "name": "python3",
      "display_name": "Python 3"
    },
    "language_info": {
      "name": "python"
    }
  },
  "cells": [
    {
      "cell_type": "code",
      "execution_count": null,
      "metadata": {
        "colab": {
          "base_uri": "https://localhost:8080/",
          "height": 53
        },
        "id": "qXTANSN5c-ac",
        "outputId": "deecbced-1c8e-49ea-d715-1f2f13003019"
      },
      "outputs": [
        {
          "output_type": "execute_result",
          "data": {
            "text/plain": [
              "' if we write anyhing in the 3 comas this cannot be print it will be hide ok \\nand\\nif we try to write any code like \\nprint(\"hello world\")\\nif else\\nloop\\nwhile\\n nothing will be shown wverything will be hidden\\n '"
            ],
            "application/vnd.google.colaboratory.intrinsic+json": {
              "type": "string"
            }
          },
          "metadata": {},
          "execution_count": 4
        }
      ],
      "source": [
        "\"\"\" if we write anyhing in the 3 comas this cannot be print it will be hide ok\"\"\"\n",
        "\"\"\" if we write anyhing in the 3 comas this cannot be print it will be hide ok\n",
        "and\n",
        "if we try to write any code like\n",
        "print(\"hello world\")\n",
        "if else\n",
        "loop\n",
        "while\n",
        " nothing will be shown wverything will be hidden\n",
        " \"\"\""
      ]
    },
    {
      "cell_type": "code",
      "source": [
        "print(\"hello world\")"
      ],
      "metadata": {
        "colab": {
          "base_uri": "https://localhost:8080/"
        },
        "id": "WTtBA_ZSeRIS",
        "outputId": "84f4f9b9-5b88-4b74-b5af-cd580272606f"
      },
      "execution_count": null,
      "outputs": [
        {
          "output_type": "stream",
          "name": "stdout",
          "text": [
            "hello world\n"
          ]
        }
      ]
    },
    {
      "cell_type": "markdown",
      "source": [
        "## variable"
      ],
      "metadata": {
        "id": "cpUAUZysewCw"
      }
    },
    {
      "cell_type": "code",
      "source": [
        "x=20\n",
        "print(x)"
      ],
      "metadata": {
        "colab": {
          "base_uri": "https://localhost:8080/"
        },
        "id": "rsTkoI7yezVj",
        "outputId": "d4ce4ee0-1995-47a5-d585-bee4b9434d70"
      },
      "execution_count": null,
      "outputs": [
        {
          "output_type": "stream",
          "name": "stdout",
          "text": [
            "20\n"
          ]
        }
      ]
    },
    {
      "cell_type": "markdown",
      "source": [
        "variable only conatins alphabets like x y z\n",
        "\n",
        "variable didnot contains any special character like @ # $ &\n",
        "\n",
        "varibale should contain names but start wiht alphabets and must be small letters\n"
      ],
      "metadata": {
        "id": "MutnPz4Ve7WV"
      }
    },
    {
      "cell_type": "code",
      "source": [
        "#accepted variables\n",
        "\n",
        "ten = 10\n",
        "ten_num = 20\n",
        "tenNumber=30\n",
        "\n",
        "print(ten, ten_num, tenNumber)"
      ],
      "metadata": {
        "colab": {
          "base_uri": "https://localhost:8080/"
        },
        "id": "iUMs2zbofyoD",
        "outputId": "9cc2fbbb-3e64-4e12-c3c6-8142a5976f37"
      },
      "execution_count": null,
      "outputs": [
        {
          "output_type": "stream",
          "name": "stdout",
          "text": [
            "10 20 30\n"
          ]
        }
      ]
    },
    {
      "cell_type": "code",
      "source": [
        "a=30\n",
        "b=ten\n",
        "c=2.2\n",
        "d='Zamad'\n",
        "e=\"zamad\"\n",
        "\n",
        "print(type(a))\n",
        "print(type(b))\n",
        "print(type(c))\n",
        "print(type(d))\n",
        "print(type(e))"
      ],
      "metadata": {
        "colab": {
          "base_uri": "https://localhost:8080/"
        },
        "id": "cM53cWKQgi_n",
        "outputId": "332417a2-0c02-4f8c-edf7-c86abe33937d"
      },
      "execution_count": null,
      "outputs": [
        {
          "output_type": "stream",
          "name": "stdout",
          "text": [
            "<class 'int'>\n",
            "<class 'int'>\n",
            "<class 'float'>\n",
            "<class 'str'>\n",
            "<class 'str'>\n"
          ]
        }
      ]
    },
    {
      "cell_type": "code",
      "source": [
        "a=20\n",
        "b=30\n",
        "c= a+b\n",
        "print(\"here we going to add a and b:\", c)"
      ],
      "metadata": {
        "colab": {
          "base_uri": "https://localhost:8080/"
        },
        "id": "_0MXJk1Zh-Pv",
        "outputId": "5c86c757-be35-461f-d3ba-4a91193d3687"
      },
      "execution_count": null,
      "outputs": [
        {
          "output_type": "stream",
          "name": "stdout",
          "text": [
            "here we going to add a and b: 50\n"
          ]
        }
      ]
    },
    {
      "cell_type": "markdown",
      "source": [
        "bolean data type\n"
      ],
      "metadata": {
        "id": "X5yE_rYfi4RC"
      }
    },
    {
      "cell_type": "code",
      "source": [
        "a = True\n",
        "b=False\n",
        "print(type(a))\n",
        "print(type(b))"
      ],
      "metadata": {
        "colab": {
          "base_uri": "https://localhost:8080/"
        },
        "id": "ngfa24_Mi60w",
        "outputId": "b0a2ab4f-90db-47e6-d692-f12723bfa4d7"
      },
      "execution_count": null,
      "outputs": [
        {
          "output_type": "stream",
          "name": "stdout",
          "text": [
            "<class 'bool'>\n",
            "<class 'bool'>\n"
          ]
        }
      ]
    },
    {
      "cell_type": "code",
      "source": [
        "a=12\n",
        "b=11\n",
        "c= a>b\n",
        "d=a<b\n",
        "print(\"Value of c:\", c)\n",
        "print(\"value of D:\", d)"
      ],
      "metadata": {
        "colab": {
          "base_uri": "https://localhost:8080/"
        },
        "id": "pRd8qzUqjKH3",
        "outputId": "5db41364-b8ec-4b11-e963-1934f83f1b07"
      },
      "execution_count": null,
      "outputs": [
        {
          "output_type": "stream",
          "name": "stdout",
          "text": [
            "Value of c: True\n",
            "value of D: False\n"
          ]
        }
      ]
    },
    {
      "cell_type": "markdown",
      "source": [
        "Multi assignments of variables"
      ],
      "metadata": {
        "id": "nKWPDcxKmxNm"
      }
    },
    {
      "cell_type": "code",
      "source": [
        "a, b, c, d, e = 1, 1.2, \"hi\", True, False\n",
        "\n",
        "print(a, type(a))\n",
        "print(b, type(b))\n",
        "print(c, type(c))\n",
        "print(d, type(d))\n",
        "print(e, type(e))"
      ],
      "metadata": {
        "colab": {
          "base_uri": "https://localhost:8080/"
        },
        "id": "5RjtHpRiliRB",
        "outputId": "fda09ef4-e3eb-4650-8ff7-7b8d308cb6a7"
      },
      "execution_count": null,
      "outputs": [
        {
          "output_type": "stream",
          "name": "stdout",
          "text": [
            "1 <class 'int'>\n",
            "1.2 <class 'float'>\n",
            "hi <class 'str'>\n",
            "True <class 'bool'>\n",
            "False <class 'bool'>\n"
          ]
        }
      ]
    },
    {
      "cell_type": "code",
      "source": [
        "\"day\" + \"1\""
      ],
      "metadata": {
        "colab": {
          "base_uri": "https://localhost:8080/",
          "height": 35
        },
        "id": "ctHHIinnoQ0g",
        "outputId": "5f0ddb0f-9b1a-4052-b52e-0cb37938685e"
      },
      "execution_count": null,
      "outputs": [
        {
          "output_type": "execute_result",
          "data": {
            "text/plain": [
              "'day1'"
            ],
            "application/vnd.google.colaboratory.intrinsic+json": {
              "type": "string"
            }
          },
          "metadata": {},
          "execution_count": 31
        }
      ]
    },
    {
      "cell_type": "code",
      "source": [
        "# if we write any integer in comas it becomes string\n",
        "\"22\" + \"33\""
      ],
      "metadata": {
        "colab": {
          "base_uri": "https://localhost:8080/",
          "height": 35
        },
        "id": "h618YnxLooLg",
        "outputId": "6dfca7cd-0e90-4f07-a013-8b7305f2b550"
      },
      "execution_count": null,
      "outputs": [
        {
          "output_type": "execute_result",
          "data": {
            "text/plain": [
              "'2233'"
            ],
            "application/vnd.google.colaboratory.intrinsic+json": {
              "type": "string"
            }
          },
          "metadata": {},
          "execution_count": 32
        }
      ]
    },
    {
      "cell_type": "code",
      "source": [
        "# string and integer cannot be added\n",
        "\"22\" + 11"
      ],
      "metadata": {
        "colab": {
          "base_uri": "https://localhost:8080/",
          "height": 141
        },
        "id": "jqtAZBo-opZl",
        "outputId": "c9760b55-6781-43bd-d9e2-672f73b54007"
      },
      "execution_count": null,
      "outputs": [
        {
          "output_type": "error",
          "ename": "TypeError",
          "evalue": "can only concatenate str (not \"int\") to str",
          "traceback": [
            "\u001b[0;31m---------------------------------------------------------------------------\u001b[0m",
            "\u001b[0;31mTypeError\u001b[0m                                 Traceback (most recent call last)",
            "\u001b[0;32m<ipython-input-33-676128d2e55d>\u001b[0m in \u001b[0;36m<cell line: 0>\u001b[0;34m()\u001b[0m\n\u001b[0;32m----> 1\u001b[0;31m \u001b[0;34m\"22\"\u001b[0m \u001b[0;34m+\u001b[0m \u001b[0;36m11\u001b[0m\u001b[0;34m\u001b[0m\u001b[0;34m\u001b[0m\u001b[0m\n\u001b[0m",
            "\u001b[0;31mTypeError\u001b[0m: can only concatenate str (not \"int\") to str"
          ]
        }
      ]
    },
    {
      "cell_type": "code",
      "source": [
        "#both are integers\n",
        "22 - 11"
      ],
      "metadata": {
        "colab": {
          "base_uri": "https://localhost:8080/"
        },
        "id": "Gf9lEFBTos5Q",
        "outputId": "1e7ef897-583b-47e4-b96d-bdd51779faae"
      },
      "execution_count": null,
      "outputs": [
        {
          "output_type": "execute_result",
          "data": {
            "text/plain": [
              "11"
            ]
          },
          "metadata": {},
          "execution_count": 36
        }
      ]
    },
    {
      "cell_type": "code",
      "source": [
        "11 + 22"
      ],
      "metadata": {
        "colab": {
          "base_uri": "https://localhost:8080/"
        },
        "id": "mtvaKDpXo43M",
        "outputId": "f0660b45-35c4-4b0a-e047-2091abd9efb7"
      },
      "execution_count": null,
      "outputs": [
        {
          "output_type": "execute_result",
          "data": {
            "text/plain": [
              "33"
            ]
          },
          "metadata": {},
          "execution_count": 37
        }
      ]
    },
    {
      "cell_type": "code",
      "source": [
        "language = 'python'\n",
        "print(\"Welcome to the \" + language + \" language\")"
      ],
      "metadata": {
        "colab": {
          "base_uri": "https://localhost:8080/"
        },
        "id": "WTmtPYO3plaf",
        "outputId": "f1e36a77-4483-49cf-beb0-1cebc67cf41d"
      },
      "execution_count": null,
      "outputs": [
        {
          "output_type": "stream",
          "name": "stdout",
          "text": [
            "Welcome to the python language\n"
          ]
        }
      ]
    },
    {
      "cell_type": "code",
      "source": [
        "#now here we describe the type functions\n",
        "ten = 30\n",
        "two = \"abc\"\n",
        "points = 45.5\n",
        "print(type(ten))\n",
        "print(type(two))\n",
        "print(type(points))"
      ],
      "metadata": {
        "id": "BGz0PGnGp8bn",
        "colab": {
          "base_uri": "https://localhost:8080/"
        },
        "outputId": "772922ea-e10c-4604-b2c9-201c4bf8abc9"
      },
      "execution_count": 3,
      "outputs": [
        {
          "output_type": "stream",
          "name": "stdout",
          "text": [
            "<class 'int'>\n",
            "<class 'str'>\n",
            "<class 'float'>\n"
          ]
        }
      ]
    },
    {
      "cell_type": "code",
      "source": [
        "a = 2\n",
        "b = 3\n",
        "e = 1\n",
        "c = a+b\n",
        "d = b-a\n",
        "f = b/e\n",
        "g = a*b\n",
        "print(\"here is the sum of a and b:\", c)\n",
        "print(\"here is the sub of a and b:\", d)\n",
        "print(\"here is the div of a and b:\", f)\n",
        "print(\"here is the mul of a and b:\", g)"
      ],
      "metadata": {
        "colab": {
          "base_uri": "https://localhost:8080/"
        },
        "id": "60BOGgwYzrHj",
        "outputId": "56b027d1-536e-4a23-87c9-d9cea9deeec5"
      },
      "execution_count": 7,
      "outputs": [
        {
          "output_type": "stream",
          "name": "stdout",
          "text": [
            "here is the sum of a and b: 5\n",
            "here is the sub of a and b: 1\n",
            "here is the div of a and b: 3.0\n",
            "here is the mul of a and b: 6\n"
          ]
        }
      ]
    },
    {
      "cell_type": "code",
      "source": [
        "#in the above section u c that when we divde then we get answer in point for that we use double //\n",
        "a = 3\n",
        "b = 1\n",
        "c = a//b\n",
        "print(\"here is the div of a and b:\", c)"
      ],
      "metadata": {
        "colab": {
          "base_uri": "https://localhost:8080/"
        },
        "id": "GVGLUkCw0m_i",
        "outputId": "6d6cd02a-7730-460a-8e0e-02d87c949170"
      },
      "execution_count": 9,
      "outputs": [
        {
          "output_type": "stream",
          "name": "stdout",
          "text": [
            "here is the div of a and b: 3\n"
          ]
        }
      ]
    },
    {
      "cell_type": "code",
      "source": [
        "#now we discuss about boleen data type\n",
        "a = True\n",
        "b = False\n",
        "print(type(a))\n",
        "print(type(b))"
      ],
      "metadata": {
        "colab": {
          "base_uri": "https://localhost:8080/"
        },
        "id": "tFw3aRCF1Md4",
        "outputId": "3d6d4e9b-9f51-4edf-f124-7ee9003a733d"
      },
      "execution_count": 10,
      "outputs": [
        {
          "output_type": "stream",
          "name": "stdout",
          "text": [
            "<class 'bool'>\n",
            "<class 'bool'>\n"
          ]
        }
      ]
    },
    {
      "cell_type": "code",
      "source": [
        "a = 3\n",
        "b = 4\n",
        "c = a < b\n",
        "d = a > b\n",
        "print(\"Now you understand that how it works \", c)\n",
        "print(\"Now you understand that how it works \", d)"
      ],
      "metadata": {
        "colab": {
          "base_uri": "https://localhost:8080/"
        },
        "id": "XyggXC2X1cKG",
        "outputId": "f9afba3c-5bd8-4e96-dee4-2feeb55aa4bb"
      },
      "execution_count": 1,
      "outputs": [
        {
          "output_type": "stream",
          "name": "stdout",
          "text": [
            "Now you understand that how it works  True\n",
            "Now you understand that how it works  False\n"
          ]
        }
      ]
    },
    {
      "cell_type": "code",
      "source": [],
      "metadata": {
        "id": "7YnWOHkKHlOz"
      },
      "execution_count": null,
      "outputs": []
    }
  ]
}