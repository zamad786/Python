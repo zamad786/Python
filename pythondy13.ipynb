{
  "nbformat": 4,
  "nbformat_minor": 0,
  "metadata": {
    "colab": {
      "provenance": [],
      "authorship_tag": "ABX9TyN+m3S0pVfhTZjWLsTIWJSF",
      "include_colab_link": true
    },
    "kernelspec": {
      "name": "python3",
      "display_name": "Python 3"
    },
    "language_info": {
      "name": "python"
    }
  },
  "cells": [
    {
      "cell_type": "markdown",
      "metadata": {
        "id": "view-in-github",
        "colab_type": "text"
      },
      "source": [
        "<a href=\"https://colab.research.google.com/github/zamad786/Python/blob/main/pythondy13.ipynb\" target=\"_parent\"><img src=\"https://colab.research.google.com/assets/colab-badge.svg\" alt=\"Open In Colab\"/></a>"
      ]
    },
    {
      "cell_type": "code",
      "execution_count": 1,
      "metadata": {
        "colab": {
          "base_uri": "https://localhost:8080/"
        },
        "id": "YbBvf19cEvLB",
        "outputId": "eed7ab2f-f7a4-41f6-c224-44ba64da41e9"
      },
      "outputs": [
        {
          "output_type": "stream",
          "name": "stdout",
          "text": [
            "['banana', 'mango', 'orange']\n"
          ]
        }
      ],
      "source": [
        "#lets find out n word in the list\n",
        "a = [\"apple\", \"banana\", \"kiwi\", \"mango\", \"orange\"]\n",
        "b = []\n",
        "for x in a:\n",
        "  if \"n\" in x:\n",
        "    b.append(x)\n",
        "print(b)"
      ]
    },
    {
      "cell_type": "code",
      "source": [
        "#lets use list comprehension\n",
        "a = [\"apple\", \"banana\", \"kiwi\", \"mango\", \"orange\"]\n",
        "newlist = [x for x in a if \"g\" in x]\n",
        "print(newlist) #it prints only string which have\n",
        "\n",
        "new = [x for x in a if x != \"mango\"]\n",
        "print(new) #it prints without given value\n",
        "\n",
        "list1 = [x for x in a if x == \"kiwi\"]\n",
        "print(list1) #it prints only given value"
      ],
      "metadata": {
        "colab": {
          "base_uri": "https://localhost:8080/"
        },
        "id": "D37Kd_H2YMow",
        "outputId": "de1351c0-ad74-4450-c622-175df7721a25"
      },
      "execution_count": 9,
      "outputs": [
        {
          "output_type": "stream",
          "name": "stdout",
          "text": [
            "['mango', 'orange']\n",
            "['apple', 'banana', 'kiwi', 'orange']\n",
            "['kiwi']\n"
          ]
        }
      ]
    },
    {
      "cell_type": "code",
      "source": [
        "#Lets use upper and lower case in list\n",
        "a = [\"apple\", \"banana\", \"kiwi\", \"mango\", \"orange\"]\n",
        "new = [x.upper() for x in a]\n",
        "print(new)\n",
        "\n",
        "\n",
        "\n",
        "c = ['APPLE', 'BANANA', 'KIWI', 'MANGO', 'ORANGE']\n",
        "old = [x.lower() for x in c]\n",
        "print(old)"
      ],
      "metadata": {
        "colab": {
          "base_uri": "https://localhost:8080/"
        },
        "id": "FD1aQ4Glc722",
        "outputId": "429632f5-e3d6-47dd-f15f-d6ddd42b6831"
      },
      "execution_count": 14,
      "outputs": [
        {
          "output_type": "stream",
          "name": "stdout",
          "text": [
            "['APPLE', 'BANANA', 'KIWI', 'MANGO', 'ORANGE']\n",
            "['apple', 'banana', 'kiwi', 'mango', 'orange']\n"
          ]
        }
      ]
    },
    {
      "cell_type": "code",
      "source": [
        "#loops on list\n",
        "a = ['APPLE', 'BANANA', 'KIWI', 'MANGO', 'ORANGE']\n",
        "for x in a: #\n",
        "  print(x)\n",
        "\n",
        "\n",
        "b = ['APPLE', 'BANANA', 'KIWI', 'MANGO', 'ORANGE']\n",
        "for x in range(len(b)): #use len and range\n",
        "  print(b[x])"
      ],
      "metadata": {
        "colab": {
          "base_uri": "https://localhost:8080/"
        },
        "id": "Xbxj-3eieUVH",
        "outputId": "d9618baf-1ce4-415c-df3a-19bf82e0ad21"
      },
      "execution_count": 18,
      "outputs": [
        {
          "output_type": "stream",
          "name": "stdout",
          "text": [
            "APPLE\n",
            "BANANA\n",
            "KIWI\n",
            "MANGO\n",
            "ORANGE\n",
            "APPLE\n",
            "BANANA\n",
            "KIWI\n",
            "MANGO\n",
            "ORANGE\n"
          ]
        }
      ]
    },
    {
      "cell_type": "code",
      "source": [
        "#iterarting a list using while loop\n",
        "b = ['APPLE', 'BANANA', 'KIWI', 'MANGO', 'ORANGE']\n",
        "i = 0\n",
        "while i <= len(b) -1:\n",
        "  print(b[i])\n",
        "  i = i+1"
      ],
      "metadata": {
        "colab": {
          "base_uri": "https://localhost:8080/"
        },
        "id": "u4n8gvPeekqk",
        "outputId": "2c8c26c4-d8d2-41ab-f282-f8b2eadd7a22"
      },
      "execution_count": 26,
      "outputs": [
        {
          "output_type": "stream",
          "name": "stdout",
          "text": [
            "APPLE\n",
            "BANANA\n",
            "KIWI\n",
            "MANGO\n",
            "ORANGE\n"
          ]
        }
      ]
    },
    {
      "cell_type": "code",
      "source": [
        "#Lets use sort\n",
        "b = ['KIWI', 'MANGO', 'APPLE', 'BANANA', 'ORANGE']\n",
        "b.sort()\n",
        "print(b)\n",
        "\n",
        "b.sort(reverse = True)\n",
        "print(b)\n",
        "\n",
        "b.reverse()\n",
        "print(b)"
      ],
      "metadata": {
        "colab": {
          "base_uri": "https://localhost:8080/"
        },
        "id": "RiQ2JxW6h3rG",
        "outputId": "6e2ec754-f82d-4b70-b847-04e75a81c351"
      },
      "execution_count": 29,
      "outputs": [
        {
          "output_type": "stream",
          "name": "stdout",
          "text": [
            "['ORANGE', 'MANGO', 'KIWI', 'BANANA', 'APPLE']\n"
          ]
        }
      ]
    },
    {
      "cell_type": "code",
      "source": [],
      "metadata": {
        "id": "pJv98JxyiZ80"
      },
      "execution_count": null,
      "outputs": []
    }
  ]
}